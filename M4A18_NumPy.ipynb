{
  "cells": [
    {
      "cell_type": "markdown",
      "metadata": {
        "id": "view-in-github",
        "colab_type": "text"
      },
      "source": [
        "<a href=\"https://colab.research.google.com/github/flepka/Machine-Learning-with-Python/blob/master/M4A18_NumPy.ipynb\" target=\"_parent\"><img src=\"https://colab.research.google.com/assets/colab-badge.svg\" alt=\"Open In Colab\"/></a>"
      ]
    },
    {
      "cell_type": "markdown",
      "metadata": {
        "id": "WHSU8NShZedN"
      },
      "source": [
        "![alt text](https://encrypted-tbn0.gstatic.com/images?q=tbn%3AANd9GcTK4gQ9nhwHHaSXMHpeggWg7twwMCgb877smkRmtkmDeDoGF9Z6&usqp=CAU)"
      ]
    },
    {
      "cell_type": "markdown",
      "metadata": {
        "id": "7oiQVQi0AJ6D"
      },
      "source": [
        "# <font color='BLUE'>Cientista de Dados na Prática </font>\n",
        "\n",
        "# <font color='GREEN'>Módulo 4 - Análise Exploratória dos Dados</font>\n",
        "\n",
        "### <font color='GREY'> Numpy - Manipulando arquivos Multidimensionais </font>\n",
        "\n"
      ]
    },
    {
      "cell_type": "markdown",
      "metadata": {
        "id": "lk7bNn2JU616"
      },
      "source": [
        "# Numpy - Análise de Dados  \n"
      ]
    },
    {
      "cell_type": "markdown",
      "metadata": {
        "id": "-W4Hu8WVU618"
      },
      "source": [
        "<p> Simbóra aprender a trabalhar coma biblioteca Numpy.\n"
      ]
    },
    {
      "cell_type": "code",
      "execution_count": 3,
      "metadata": {
        "id": "DYivKMPIU619"
      },
      "outputs": [],
      "source": [
        "# Importando a biblioteca numpy\n",
        "import numpy as np"
      ]
    },
    {
      "cell_type": "code",
      "execution_count": 4,
      "metadata": {
        "id": "l2bSx6K_U62C"
      },
      "outputs": [],
      "source": [
        "# Criando um array de 1 dimensão\n",
        "one_dim = np.array([1,2,3,4])"
      ]
    },
    {
      "cell_type": "code",
      "execution_count": 5,
      "metadata": {
        "colab": {
          "base_uri": "https://localhost:8080/"
        },
        "id": "pqV3FwruU62H",
        "outputId": "f3bd8c29-261a-4da2-8a12-88bce2926b44"
      },
      "outputs": [
        {
          "output_type": "execute_result",
          "data": {
            "text/plain": [
              "numpy.ndarray"
            ]
          },
          "metadata": {},
          "execution_count": 5
        }
      ],
      "source": [
        "type(one_dim)"
      ]
    },
    {
      "cell_type": "code",
      "execution_count": 6,
      "metadata": {
        "colab": {
          "base_uri": "https://localhost:8080/"
        },
        "id": "VeHSNr5nU62K",
        "outputId": "faf6a379-ca03-4eff-f1c1-c91599d82c75"
      },
      "outputs": [
        {
          "output_type": "execute_result",
          "data": {
            "text/plain": [
              "1"
            ]
          },
          "metadata": {},
          "execution_count": 6
        }
      ],
      "source": [
        "# Imprimindo um array a quantidade de dimensões\n",
        "one_dim.ndim"
      ]
    },
    {
      "cell_type": "code",
      "execution_count": 7,
      "metadata": {
        "id": "AHxbGyZXU62N"
      },
      "outputs": [],
      "source": [
        "# Criando um array de 2 dimensões.\n",
        "two_dim = np.array([(1,2,3), (4,5,6)])"
      ]
    },
    {
      "cell_type": "code",
      "execution_count": 9,
      "metadata": {
        "colab": {
          "base_uri": "https://localhost:8080/"
        },
        "id": "t-uNScA2U62P",
        "outputId": "abe07770-b219-43ec-8a9f-e3f9f67b4c12"
      },
      "outputs": [
        {
          "output_type": "execute_result",
          "data": {
            "text/plain": [
              "2"
            ]
          },
          "metadata": {},
          "execution_count": 9
        }
      ],
      "source": [
        "# Imprimindo o array a quantidade de dimensões\n",
        "two_dim.ndim"
      ]
    },
    {
      "cell_type": "code",
      "execution_count": 10,
      "metadata": {
        "id": "rgQOd6CVU62S",
        "colab": {
          "base_uri": "https://localhost:8080/"
        },
        "outputId": "c8a3bef4-c7ec-4d10-920d-197c10c59f48"
      },
      "outputs": [
        {
          "output_type": "execute_result",
          "data": {
            "text/plain": [
              "array([[0.99423834, 0.04997457],\n",
              "       [0.10423711, 0.06044402],\n",
              "       [0.45029876, 0.81371908],\n",
              "       [0.76401928, 0.06670438],\n",
              "       [0.07247451, 0.08958252]])"
            ]
          },
          "metadata": {},
          "execution_count": 10
        }
      ],
      "source": [
        "# Cria um array de números aleatórios.\n",
        "# Um array de 5 linhas e duas dimensões.\n",
        "np.random.random((5,2))"
      ]
    },
    {
      "cell_type": "code",
      "execution_count": 11,
      "metadata": {
        "colab": {
          "base_uri": "https://localhost:8080/"
        },
        "id": "wvDkUtr9U62U",
        "outputId": "d4d18516-acfd-4fd1-d379-7e5ff75f6937"
      },
      "outputs": [
        {
          "output_type": "execute_result",
          "data": {
            "text/plain": [
              "array([10, 15, 20, 25, 30, 35, 40, 45])"
            ]
          },
          "metadata": {},
          "execution_count": 11
        }
      ],
      "source": [
        "# Cria um array com valores esparsos iniciando com o valor 10, menor que 50 e incrementando de 5 em 5.\n",
        "np.arange(10,50,5)"
      ]
    },
    {
      "cell_type": "code",
      "execution_count": 12,
      "metadata": {
        "colab": {
          "base_uri": "https://localhost:8080/"
        },
        "id": "1zVCoL_wU62X",
        "outputId": "7e1b22f5-391b-4ce6-8038-219dacadff2a"
      },
      "outputs": [
        {
          "output_type": "execute_result",
          "data": {
            "text/plain": [
              "array([0.  , 0.25, 0.5 , 0.75, 1.  , 1.25, 1.5 , 1.75, 2.  ])"
            ]
          },
          "metadata": {},
          "execution_count": 12
        }
      ],
      "source": [
        "# cria um array linear de 0 a 2 de no máximo 9 elementos.\n",
        "np.linspace(0,2,9)"
      ]
    },
    {
      "cell_type": "code",
      "execution_count": 13,
      "metadata": {
        "colab": {
          "base_uri": "https://localhost:8080/"
        },
        "id": "1IEXxzFMU62Y",
        "outputId": "3b073181-6f10-466b-be20-bd358620abed"
      },
      "outputs": [
        {
          "output_type": "execute_result",
          "data": {
            "text/plain": [
              "array([[0., 0., 0., 0.],\n",
              "       [0., 0., 0., 0.],\n",
              "       [0., 0., 0., 0.]])"
            ]
          },
          "metadata": {},
          "execution_count": 13
        }
      ],
      "source": [
        "# Cria um array de valores zero.\n",
        "# Cria um array com 3 linhas e 4 dimensões.\n",
        "np.zeros((3,4))"
      ]
    },
    {
      "cell_type": "markdown",
      "metadata": {
        "id": "F0HBGrYjU62a"
      },
      "source": [
        "# Arrays x Listas"
      ]
    },
    {
      "cell_type": "markdown",
      "metadata": {
        "id": "pBL0Q0BlU62b"
      },
      "source": [
        "- Arrays Numpy permitem fazermos operações em **arrays inteiros** de forma rápida.\n",
        "- Listas não permitem operações em todos os elementos da lista.\n",
        "- Para operações em todos os elementos é preciso interar sobre toda a lista.\n",
        "- Listas em Python armazenam diferentes tipos de objetos\n",
        "- Arrays Numpy considera todos os elementos de tipos distintos como strings\n"
      ]
    },
    {
      "cell_type": "code",
      "execution_count": 18,
      "metadata": {
        "id": "OSgVo6WFU62b"
      },
      "outputs": [],
      "source": [
        "# Criando uma lista em Python.\n",
        "lista = [1,2,3]"
      ]
    },
    {
      "cell_type": "code",
      "execution_count": 15,
      "metadata": {
        "colab": {
          "base_uri": "https://localhost:8080/"
        },
        "id": "OBVEg2sFU62d",
        "outputId": "3a19f794-77bb-4995-9f5a-a78914644acb"
      },
      "outputs": [
        {
          "output_type": "execute_result",
          "data": {
            "text/plain": [
              "[1, 2, 3]"
            ]
          },
          "metadata": {},
          "execution_count": 15
        }
      ],
      "source": [
        "lista"
      ]
    },
    {
      "cell_type": "code",
      "execution_count": 16,
      "metadata": {
        "colab": {
          "base_uri": "https://localhost:8080/"
        },
        "id": "O-nnTWcarebL",
        "outputId": "564d7916-10fc-4e0d-9b9a-98617b3a082d"
      },
      "outputs": [
        {
          "output_type": "execute_result",
          "data": {
            "text/plain": [
              "list"
            ]
          },
          "metadata": {},
          "execution_count": 16
        }
      ],
      "source": [
        "type(lista)"
      ]
    },
    {
      "cell_type": "code",
      "execution_count": 17,
      "metadata": {
        "colab": {
          "base_uri": "https://localhost:8080/"
        },
        "id": "iKaS8MYoU62f",
        "outputId": "c0e4239a-1380-4924-cc8f-ae3c95d0471e"
      },
      "outputs": [
        {
          "output_type": "execute_result",
          "data": {
            "text/plain": [
              "[1, 2, 3, 1, 2, 3]"
            ]
          },
          "metadata": {},
          "execution_count": 17
        }
      ],
      "source": [
        "# Multiplicar valores da lista por 2.\n",
        "lista * 2"
      ]
    },
    {
      "cell_type": "code",
      "execution_count": 19,
      "metadata": {
        "id": "Mh_mDpK7U62g"
      },
      "outputs": [],
      "source": [
        "# Transforme a variável lista em um array Numpy\n",
        "lista = np.array(lista)"
      ]
    },
    {
      "cell_type": "code",
      "execution_count": 20,
      "metadata": {
        "colab": {
          "base_uri": "https://localhost:8080/"
        },
        "id": "e43F2Y1_U62i",
        "outputId": "e05636b9-00a8-4489-c562-8d285f044e47"
      },
      "outputs": [
        {
          "output_type": "execute_result",
          "data": {
            "text/plain": [
              "numpy.ndarray"
            ]
          },
          "metadata": {},
          "execution_count": 20
        }
      ],
      "source": [
        "# Imprimindo o tipo do objeto.\n",
        "type(lista)"
      ]
    },
    {
      "cell_type": "code",
      "execution_count": 21,
      "metadata": {
        "colab": {
          "base_uri": "https://localhost:8080/"
        },
        "id": "w545OkpRU62k",
        "outputId": "bae971ce-3293-419c-ead9-f812fc23d3e9"
      },
      "outputs": [
        {
          "output_type": "execute_result",
          "data": {
            "text/plain": [
              "array([2, 4, 6])"
            ]
          },
          "metadata": {},
          "execution_count": 21
        }
      ],
      "source": [
        "# Multiplicando cada elemento por 2.\n",
        "lista * 2"
      ]
    },
    {
      "cell_type": "code",
      "execution_count": 22,
      "metadata": {
        "id": "7do4GKVSU62l"
      },
      "outputs": [],
      "source": [
        "# Calcular IMC de pessoas.\n",
        "pesos = [67,81,120,90]\n",
        "altura = [1.68,1.70,1.75,1.85]"
      ]
    },
    {
      "cell_type": "code",
      "execution_count": null,
      "metadata": {
        "colab": {
          "base_uri": "https://localhost:8080/",
          "height": 178
        },
        "id": "QTT_48KCU62o",
        "outputId": "0e4e81f5-0bb3-4d59-f2d8-7f9a789a9d36"
      },
      "outputs": [
        {
          "ename": "TypeError",
          "evalue": "ignored",
          "output_type": "error",
          "traceback": [
            "\u001b[0;31m---------------------------------------------------------------------------\u001b[0m",
            "\u001b[0;31mTypeError\u001b[0m                                 Traceback (most recent call last)",
            "\u001b[0;32m<ipython-input-29-365207c96198>\u001b[0m in \u001b[0;36m<module>\u001b[0;34m()\u001b[0m\n\u001b[1;32m      1\u001b[0m \u001b[0;31m# Faz o calculo usando as listas\u001b[0m\u001b[0;34m\u001b[0m\u001b[0;34m\u001b[0m\u001b[0;34m\u001b[0m\u001b[0m\n\u001b[0;32m----> 2\u001b[0;31m \u001b[0mpesos\u001b[0m \u001b[0;34m/\u001b[0m \u001b[0maltura\u001b[0m \u001b[0;34m**\u001b[0m \u001b[0;36m2\u001b[0m\u001b[0;34m\u001b[0m\u001b[0;34m\u001b[0m\u001b[0m\n\u001b[0m",
            "\u001b[0;31mTypeError\u001b[0m: unsupported operand type(s) for ** or pow(): 'list' and 'int'"
          ]
        }
      ],
      "source": [
        "# Faz o calculo usando as listas\n",
        "pesos / altura ** 2  # Dá erro porque é uma lista"
      ]
    },
    {
      "cell_type": "code",
      "execution_count": 23,
      "metadata": {
        "id": "KGZhZKflU62p"
      },
      "outputs": [],
      "source": [
        "# Transforme isso em arrays numpy\n",
        "pesos = np.array(pesos)\n",
        "altura = np.array(altura)"
      ]
    },
    {
      "cell_type": "code",
      "execution_count": 24,
      "metadata": {
        "colab": {
          "base_uri": "https://localhost:8080/"
        },
        "id": "XTBlIBsSU62r",
        "outputId": "39b68401-6eee-433f-a40e-39186927232a"
      },
      "outputs": [
        {
          "output_type": "execute_result",
          "data": {
            "text/plain": [
              "array([23.73866213, 28.02768166, 39.18367347, 26.29656684])"
            ]
          },
          "metadata": {},
          "execution_count": 24
        }
      ],
      "source": [
        "# Imprime o calculo de cada valor\n",
        "pesos / altura **2"
      ]
    },
    {
      "cell_type": "code",
      "execution_count": 25,
      "metadata": {
        "id": "zDOz2pv1U62s"
      },
      "outputs": [],
      "source": [
        "# Arrays Numpy armazena elementos como strins quando estes não são inteiros ou float\n",
        "a = np.array([1,3,'Casa',True])"
      ]
    },
    {
      "cell_type": "code",
      "execution_count": 26,
      "metadata": {
        "colab": {
          "base_uri": "https://localhost:8080/"
        },
        "id": "nnLTkKx8U62u",
        "outputId": "6e6f6269-7a67-48cc-f367-afb18e9040ec"
      },
      "outputs": [
        {
          "output_type": "execute_result",
          "data": {
            "text/plain": [
              "array(['1', '3', 'Casa', 'True'], dtype='<U21')"
            ]
          },
          "metadata": {},
          "execution_count": 26
        }
      ],
      "source": [
        "a"
      ]
    },
    {
      "cell_type": "code",
      "execution_count": 27,
      "metadata": {
        "id": "wEgGdzpbU62w",
        "colab": {
          "base_uri": "https://localhost:8080/",
          "height": 171
        },
        "outputId": "8352de23-2757-413b-d36e-9ee7391727db"
      },
      "outputs": [
        {
          "output_type": "error",
          "ename": "UFuncTypeError",
          "evalue": "ignored",
          "traceback": [
            "\u001b[0;31m---------------------------------------------------------------------------\u001b[0m",
            "\u001b[0;31mUFuncTypeError\u001b[0m                            Traceback (most recent call last)",
            "\u001b[0;32m<ipython-input-27-309dbdb6a888>\u001b[0m in \u001b[0;36m<module>\u001b[0;34m\u001b[0m\n\u001b[0;32m----> 1\u001b[0;31m \u001b[0ma\u001b[0m \u001b[0;34m*\u001b[0m \u001b[0;36m2\u001b[0m\u001b[0;34m\u001b[0m\u001b[0;34m\u001b[0m\u001b[0m\n\u001b[0m",
            "\u001b[0;31mUFuncTypeError\u001b[0m: ufunc 'multiply' did not contain a loop with signature matching types (dtype('<U21'), dtype('int64')) -> None"
          ]
        }
      ],
      "source": [
        "a * 2   # Dá erro porque não pode multiplicar uma Lista que contem números e strings"
      ]
    },
    {
      "cell_type": "markdown",
      "metadata": {
        "id": "x2dDkTAwU62y"
      },
      "source": [
        "# Métodos e Atributos Úteis"
      ]
    },
    {
      "cell_type": "code",
      "execution_count": null,
      "metadata": {
        "id": "w7t8u94EU62y"
      },
      "outputs": [],
      "source": [
        "# Métodos disponíveis (digite o . pressione tab).\n",
        "two_dim."
      ]
    },
    {
      "cell_type": "code",
      "execution_count": 28,
      "metadata": {
        "id": "KVy5LTa8sfx3"
      },
      "outputs": [],
      "source": [
        "# Criando um array de 2 dimensões.\n",
        "two_dim = np.array([(1,2,3), (4,5,6)])"
      ]
    },
    {
      "cell_type": "code",
      "execution_count": 29,
      "metadata": {
        "colab": {
          "base_uri": "https://localhost:8080/"
        },
        "id": "M-QF2MbJU620",
        "outputId": "5b12ff6f-6262-4002-d7e6-f7a89f06902f"
      },
      "outputs": [
        {
          "output_type": "execute_result",
          "data": {
            "text/plain": [
              "array([[1, 2, 3],\n",
              "       [4, 5, 6]])"
            ]
          },
          "metadata": {},
          "execution_count": 29
        }
      ],
      "source": [
        "two_dim"
      ]
    },
    {
      "cell_type": "code",
      "execution_count": 30,
      "metadata": {
        "colab": {
          "base_uri": "https://localhost:8080/"
        },
        "id": "oAEykFHcU623",
        "outputId": "0db6b843-17dc-4b0b-fa77-44b307815384"
      },
      "outputs": [
        {
          "output_type": "execute_result",
          "data": {
            "text/plain": [
              "(2, 3)"
            ]
          },
          "metadata": {},
          "execution_count": 30
        }
      ],
      "source": [
        "# Retorna a forma do array no formato linhas e colunas.\n",
        "two_dim.shape"
      ]
    },
    {
      "cell_type": "code",
      "execution_count": 31,
      "metadata": {
        "colab": {
          "base_uri": "https://localhost:8080/"
        },
        "id": "qFOeJ3nwU625",
        "outputId": "58c9d433-7530-4b0d-a796-f4feeca14d7f"
      },
      "outputs": [
        {
          "output_type": "execute_result",
          "data": {
            "text/plain": [
              "2"
            ]
          },
          "metadata": {},
          "execution_count": 31
        }
      ],
      "source": [
        "# Retorna a quantidade de dimensões.\n",
        "two_dim.ndim"
      ]
    },
    {
      "cell_type": "code",
      "execution_count": 32,
      "metadata": {
        "colab": {
          "base_uri": "https://localhost:8080/"
        },
        "id": "CR5GbNRsU626",
        "outputId": "6eb8189b-5de3-42fd-8857-c5dc29f3795a"
      },
      "outputs": [
        {
          "output_type": "execute_result",
          "data": {
            "text/plain": [
              "6"
            ]
          },
          "metadata": {},
          "execution_count": 32
        }
      ],
      "source": [
        "# Imprimindo o valor máximo do array.\n",
        "two_dim.max()"
      ]
    },
    {
      "cell_type": "code",
      "execution_count": 33,
      "metadata": {
        "colab": {
          "base_uri": "https://localhost:8080/"
        },
        "id": "Sr-VGZasU628",
        "outputId": "265d486b-00b9-4acc-82d7-75d713a7c6e7"
      },
      "outputs": [
        {
          "output_type": "execute_result",
          "data": {
            "text/plain": [
              "1"
            ]
          },
          "metadata": {},
          "execution_count": 33
        }
      ],
      "source": [
        "# Imprimindo o valor mínimo.\n",
        "two_dim.min()"
      ]
    },
    {
      "cell_type": "code",
      "execution_count": 34,
      "metadata": {
        "colab": {
          "base_uri": "https://localhost:8080/"
        },
        "id": "9uX_D_RCU629",
        "outputId": "28a49bb3-5803-4f0b-c159-7c7d09d40db3"
      },
      "outputs": [
        {
          "output_type": "execute_result",
          "data": {
            "text/plain": [
              "3.5"
            ]
          },
          "metadata": {},
          "execution_count": 34
        }
      ],
      "source": [
        "# Imprimindo o valor médio.\n",
        "two_dim.mean()"
      ]
    },
    {
      "cell_type": "code",
      "execution_count": 35,
      "metadata": {
        "id": "h-w6XdChU62_",
        "colab": {
          "base_uri": "https://localhost:8080/"
        },
        "outputId": "fb41b0ef-da58-4bf4-b630-fa9510538323"
      },
      "outputs": [
        {
          "output_type": "execute_result",
          "data": {
            "text/plain": [
              "1.707825127659933"
            ]
          },
          "metadata": {},
          "execution_count": 35
        }
      ],
      "source": [
        "# Imprimindo o desvio padrão.\n",
        "two_dim.std()"
      ]
    },
    {
      "cell_type": "code",
      "execution_count": 36,
      "metadata": {
        "colab": {
          "base_uri": "https://localhost:8080/"
        },
        "id": "tERh5m9yU63A",
        "outputId": "11038dcc-8874-4b45-932c-4f91d9769987"
      },
      "outputs": [
        {
          "output_type": "execute_result",
          "data": {
            "text/plain": [
              "array([[1, 2, 3],\n",
              "       [4, 5, 6]])"
            ]
          },
          "metadata": {},
          "execution_count": 36
        }
      ],
      "source": [
        "two_dim"
      ]
    },
    {
      "cell_type": "code",
      "execution_count": 37,
      "metadata": {
        "colab": {
          "base_uri": "https://localhost:8080/"
        },
        "id": "Wk27Mz7iU63C",
        "outputId": "46f86b0f-685e-4ba5-d226-5b1f938b1d7c"
      },
      "outputs": [
        {
          "output_type": "execute_result",
          "data": {
            "text/plain": [
              "dtype('int64')"
            ]
          },
          "metadata": {},
          "execution_count": 37
        }
      ],
      "source": [
        "two_dim.dtype"
      ]
    },
    {
      "cell_type": "code",
      "execution_count": 38,
      "metadata": {
        "colab": {
          "base_uri": "https://localhost:8080/"
        },
        "id": "8eAPPibOU63D",
        "outputId": "411063dc-ea84-41b7-c461-b54f49fcce7e"
      },
      "outputs": [
        {
          "output_type": "execute_result",
          "data": {
            "text/plain": [
              "6"
            ]
          },
          "metadata": {},
          "execution_count": 38
        }
      ],
      "source": [
        "two_dim.size"
      ]
    },
    {
      "cell_type": "code",
      "execution_count": 40,
      "metadata": {
        "colab": {
          "base_uri": "https://localhost:8080/"
        },
        "id": "2imdTa4PU63F",
        "outputId": "d0f24e17-11c9-4a1b-9ba3-ae0edbc5335b"
      },
      "outputs": [
        {
          "output_type": "execute_result",
          "data": {
            "text/plain": [
              "8"
            ]
          },
          "metadata": {},
          "execution_count": 40
        }
      ],
      "source": [
        "# mostra o comprimento em bytes\n",
        "two_dim.itemsize"
      ]
    },
    {
      "cell_type": "code",
      "execution_count": 41,
      "metadata": {
        "colab": {
          "base_uri": "https://localhost:8080/"
        },
        "id": "EulqakZLU63G",
        "outputId": "bca948f9-7684-4fdc-8af9-2275631f2426"
      },
      "outputs": [
        {
          "output_type": "execute_result",
          "data": {
            "text/plain": [
              "21"
            ]
          },
          "metadata": {},
          "execution_count": 41
        }
      ],
      "source": [
        "# Somando todos os elementos do array.\n",
        "two_dim.sum()"
      ]
    },
    {
      "cell_type": "markdown",
      "metadata": {
        "id": "9sYbC4wYU63I"
      },
      "source": [
        "#  Transformando Arrays"
      ]
    },
    {
      "cell_type": "code",
      "execution_count": null,
      "metadata": {
        "id": "mriOMcomuJ0z"
      },
      "outputs": [],
      "source": [
        "# Criando um array de 2 dimensões.\n",
        "two_dim = np.array([(1,2,3), (4,5,6)])"
      ]
    },
    {
      "cell_type": "code",
      "execution_count": null,
      "metadata": {
        "colab": {
          "base_uri": "https://localhost:8080/",
          "height": 50
        },
        "id": "OGd7glZZU63I",
        "outputId": "58f2a3e6-07b9-4d61-9ba4-78126c2fbf0e"
      },
      "outputs": [
        {
          "data": {
            "text/plain": [
              "array([[1, 2, 3],\n",
              "       [4, 5, 6]])"
            ]
          },
          "execution_count": 54,
          "metadata": {
            "tags": []
          },
          "output_type": "execute_result"
        }
      ],
      "source": [
        "two_dim"
      ]
    },
    {
      "cell_type": "code",
      "execution_count": null,
      "metadata": {
        "colab": {
          "base_uri": "https://localhost:8080/",
          "height": 67
        },
        "id": "0H9RR8zkU63K",
        "outputId": "06823165-76f5-464d-8488-be3a28aac49f"
      },
      "outputs": [
        {
          "data": {
            "text/plain": [
              "array([[1, 4],\n",
              "       [2, 5],\n",
              "       [3, 6]])"
            ]
          },
          "execution_count": 55,
          "metadata": {
            "tags": []
          },
          "output_type": "execute_result"
        }
      ],
      "source": [
        "# Gera a Transposta da Matriz (Linha -> coluna)\n",
        "two_dim.T"
      ]
    },
    {
      "cell_type": "code",
      "execution_count": null,
      "metadata": {
        "colab": {
          "base_uri": "https://localhost:8080/",
          "height": 50
        },
        "id": "TQkDJXH_U63N",
        "outputId": "5546c4a8-01ef-4e6c-fc87-b9d2871977a1"
      },
      "outputs": [
        {
          "data": {
            "text/plain": [
              "array([[1, 2, 3],\n",
              "       [4, 5, 6]])"
            ]
          },
          "execution_count": 56,
          "metadata": {
            "tags": []
          },
          "output_type": "execute_result"
        }
      ],
      "source": [
        "two_dim"
      ]
    },
    {
      "cell_type": "code",
      "execution_count": null,
      "metadata": {
        "colab": {
          "base_uri": "https://localhost:8080/",
          "height": 33
        },
        "id": "FYTDyoX9U63P",
        "outputId": "6daea255-4163-46dc-e70f-bf3234d56420"
      },
      "outputs": [
        {
          "data": {
            "text/plain": [
              "array([1, 2, 3, 4, 5, 6])"
            ]
          },
          "execution_count": 57,
          "metadata": {
            "tags": []
          },
          "output_type": "execute_result"
        }
      ],
      "source": [
        "# Transforma em uma matriz de uma linha.\n",
        "# È muito comum em bibliotecas como scikit-learn e Keras\n",
        "two_dim.reshape(-1)"
      ]
    },
    {
      "cell_type": "code",
      "execution_count": null,
      "metadata": {
        "id": "guhx-YFgU63R"
      },
      "outputs": [],
      "source": [
        "tree = np.random.random((5,3))"
      ]
    },
    {
      "cell_type": "code",
      "execution_count": null,
      "metadata": {
        "colab": {
          "base_uri": "https://localhost:8080/",
          "height": 33
        },
        "id": "N0UcZaYsU63S",
        "outputId": "6568a6af-85d8-4c74-a283-aa6ac0c32179"
      },
      "outputs": [
        {
          "data": {
            "text/plain": [
              "(5, 3)"
            ]
          },
          "execution_count": 59,
          "metadata": {
            "tags": []
          },
          "output_type": "execute_result"
        }
      ],
      "source": [
        "tree.shape"
      ]
    },
    {
      "cell_type": "code",
      "execution_count": null,
      "metadata": {
        "colab": {
          "base_uri": "https://localhost:8080/",
          "height": 100
        },
        "id": "9axdkLH3U63U",
        "outputId": "a3d8577e-a8c5-4e8f-f22b-5e0986a1ac10"
      },
      "outputs": [
        {
          "data": {
            "text/plain": [
              "array([[0.19137085, 0.31254401, 0.3910055 ],\n",
              "       [0.84766595, 0.29928856, 0.01659613],\n",
              "       [0.99273836, 0.70325233, 0.87453491],\n",
              "       [0.66863834, 0.25944685, 0.27971129],\n",
              "       [0.3546221 , 0.60462255, 0.46607928]])"
            ]
          },
          "execution_count": 60,
          "metadata": {
            "tags": []
          },
          "output_type": "execute_result"
        }
      ],
      "source": [
        "tree"
      ]
    },
    {
      "cell_type": "code",
      "execution_count": null,
      "metadata": {
        "colab": {
          "base_uri": "https://localhost:8080/",
          "height": 67
        },
        "id": "kCMCohflU63W",
        "outputId": "1117b042-72f3-400d-8ab8-669de35acda2"
      },
      "outputs": [
        {
          "data": {
            "text/plain": [
              "array([[0.19137085, 0.31254401, 0.3910055 , 0.84766595, 0.29928856],\n",
              "       [0.01659613, 0.99273836, 0.70325233, 0.87453491, 0.66863834],\n",
              "       [0.25944685, 0.27971129, 0.3546221 , 0.60462255, 0.46607928]])"
            ]
          },
          "execution_count": 61,
          "metadata": {
            "tags": []
          },
          "output_type": "execute_result"
        }
      ],
      "source": [
        "# Transforma em uma matriz com 3 linhas e 5 colunas\n",
        "tree.reshape(3,5)"
      ]
    },
    {
      "cell_type": "code",
      "execution_count": null,
      "metadata": {
        "colab": {
          "base_uri": "https://localhost:8080/",
          "height": 67
        },
        "id": "suIpAVnDU63Z",
        "outputId": "c6b0f7e2-6a04-4305-ac51-7a3323061d71"
      },
      "outputs": [
        {
          "data": {
            "text/plain": [
              "array([0.19137085, 0.31254401, 0.3910055 , 0.84766595, 0.29928856,\n",
              "       0.01659613, 0.99273836, 0.70325233, 0.87453491, 0.66863834,\n",
              "       0.25944685, 0.27971129, 0.3546221 , 0.60462255, 0.46607928])"
            ]
          },
          "execution_count": 67,
          "metadata": {
            "tags": []
          },
          "output_type": "execute_result"
        }
      ],
      "source": [
        "tree.reshape(-1)"
      ]
    },
    {
      "cell_type": "code",
      "execution_count": null,
      "metadata": {
        "colab": {
          "base_uri": "https://localhost:8080/",
          "height": 67
        },
        "id": "GT4jIVQBU63a",
        "outputId": "d747ed67-0a0e-4215-e63c-b488a78b5b2b"
      },
      "outputs": [
        {
          "data": {
            "text/plain": [
              "array([[0.19137085, 0.31254401, 0.3910055 , 0.84766595, 0.29928856,\n",
              "        0.01659613, 0.99273836, 0.70325233, 0.87453491, 0.66863834,\n",
              "        0.25944685, 0.27971129, 0.3546221 , 0.60462255, 0.46607928]])"
            ]
          },
          "execution_count": 63,
          "metadata": {
            "tags": []
          },
          "output_type": "execute_result"
        }
      ],
      "source": [
        "t=tree.reshape(1,15)\n",
        "t"
      ]
    },
    {
      "cell_type": "code",
      "execution_count": null,
      "metadata": {
        "colab": {
          "base_uri": "https://localhost:8080/",
          "height": 67
        },
        "id": "RI9NKWURvi41",
        "outputId": "2e5a4a19-ab7e-476c-9c70-9f44df1c3f73"
      },
      "outputs": [
        {
          "data": {
            "text/plain": [
              "array([[0.19137085, 0.31254401, 0.3910055 , 0.84766595, 0.29928856,\n",
              "        0.01659613, 0.99273836, 0.70325233, 0.87453491, 0.66863834,\n",
              "        0.25944685, 0.27971129, 0.3546221 , 0.60462255, 0.46607928]])"
            ]
          },
          "execution_count": 68,
          "metadata": {
            "tags": []
          },
          "output_type": "execute_result"
        }
      ],
      "source": [
        "t"
      ]
    },
    {
      "cell_type": "code",
      "execution_count": null,
      "metadata": {
        "colab": {
          "base_uri": "https://localhost:8080/",
          "height": 33
        },
        "id": "24-83M0dvkle",
        "outputId": "e7fe5d4f-2c4c-4317-dff1-c7a65e3523d9"
      },
      "outputs": [
        {
          "data": {
            "text/plain": [
              "(1, 15)"
            ]
          },
          "execution_count": 69,
          "metadata": {
            "tags": []
          },
          "output_type": "execute_result"
        }
      ],
      "source": [
        "t.shape"
      ]
    },
    {
      "cell_type": "code",
      "execution_count": null,
      "metadata": {
        "colab": {
          "base_uri": "https://localhost:8080/",
          "height": 50
        },
        "id": "ML5B8VmjU63c",
        "outputId": "fa6ba124-72de-4a78-e6ac-0b2ccde2b818"
      },
      "outputs": [
        {
          "data": {
            "text/plain": [
              "array([[1, 2, 3],\n",
              "       [4, 5, 6]])"
            ]
          },
          "execution_count": 70,
          "metadata": {
            "tags": []
          },
          "output_type": "execute_result"
        }
      ],
      "source": [
        "two_dim"
      ]
    },
    {
      "cell_type": "code",
      "execution_count": null,
      "metadata": {
        "id": "imJhT4QfU63d"
      },
      "outputs": [],
      "source": [
        "# Adicionando elementos a um array.\n",
        "two_dim = np.insert(two_dim,        0,10)"
      ]
    },
    {
      "cell_type": "code",
      "execution_count": null,
      "metadata": {
        "colab": {
          "base_uri": "https://localhost:8080/",
          "height": 33
        },
        "id": "I5aW_t_DU63f",
        "outputId": "240d2380-fc4e-4240-eec8-26d38ad9b41a"
      },
      "outputs": [
        {
          "data": {
            "text/plain": [
              "array([10, 10, 10, 10,  1,  2,  3,  4,  5,  6])"
            ]
          },
          "execution_count": 78,
          "metadata": {
            "tags": []
          },
          "output_type": "execute_result"
        }
      ],
      "source": [
        "# Transforma em um array de uma linha.\n",
        "two_dim"
      ]
    },
    {
      "cell_type": "code",
      "execution_count": null,
      "metadata": {
        "id": "PAupeqAhU63g"
      },
      "outputs": [],
      "source": [
        "# Apagando o elemento da primeira posição do array.\n",
        "two_dim = np.delete(two_dim,[0])"
      ]
    },
    {
      "cell_type": "code",
      "execution_count": null,
      "metadata": {
        "colab": {
          "base_uri": "https://localhost:8080/",
          "height": 33
        },
        "id": "BwvUVZxjU63i",
        "outputId": "d57b6685-1177-4d9e-9870-56b4c8601548"
      },
      "outputs": [
        {
          "data": {
            "text/plain": [
              "array([1, 2, 3, 4, 5, 6])"
            ]
          },
          "execution_count": 83,
          "metadata": {
            "tags": []
          },
          "output_type": "execute_result"
        }
      ],
      "source": [
        "two_dim"
      ]
    },
    {
      "cell_type": "code",
      "execution_count": null,
      "metadata": {
        "id": "0qJ4HIcdU63k"
      },
      "outputs": [],
      "source": [
        "# Gerando um arquivo .txt a partir de um array\n",
        "np.savetxt(\"dataset_array.txt\",two_dim, delimiter=',')"
      ]
    },
    {
      "cell_type": "markdown",
      "metadata": {
        "id": "8ECTGirZVNAv"
      },
      "source": [
        "# Acessando Dimensões no Array"
      ]
    },
    {
      "cell_type": "code",
      "execution_count": null,
      "metadata": {
        "id": "KHErmmw6VNAv"
      },
      "outputs": [],
      "source": [
        "# Importando o Numpy\n",
        "import numpy as np"
      ]
    },
    {
      "cell_type": "code",
      "execution_count": null,
      "metadata": {
        "id": "8Af4mtbfVNAz"
      },
      "outputs": [],
      "source": [
        "# Gera um array aleatório de 10 linhas e 2 colunas\n",
        "# formato linha,coluna\n",
        "my_array = np.random.random([10,2])"
      ]
    },
    {
      "cell_type": "code",
      "execution_count": null,
      "metadata": {
        "colab": {
          "base_uri": "https://localhost:8080/",
          "height": 184
        },
        "id": "_RlsahL8VNA2",
        "outputId": "970ea71d-7e33-4e61-ea4a-149c06099483"
      },
      "outputs": [
        {
          "data": {
            "text/plain": [
              "array([[0.46898628, 0.3131113 ],\n",
              "       [0.96759925, 0.39618623],\n",
              "       [0.78772397, 0.95581615],\n",
              "       [0.74547418, 0.86815068],\n",
              "       [0.862798  , 0.65737109],\n",
              "       [0.55265883, 0.53467372],\n",
              "       [0.52782129, 0.19306453],\n",
              "       [0.47747601, 0.46451321],\n",
              "       [0.11498045, 0.27941041],\n",
              "       [0.10564847, 0.23500597]])"
            ]
          },
          "execution_count": 88,
          "metadata": {
            "tags": []
          },
          "output_type": "execute_result"
        }
      ],
      "source": [
        "my_array"
      ]
    },
    {
      "cell_type": "code",
      "execution_count": null,
      "metadata": {
        "colab": {
          "base_uri": "https://localhost:8080/",
          "height": 33
        },
        "id": "CuEStUsoVNA5",
        "outputId": "0d046d8a-ca80-4cfc-8080-7a4f6b0e071d"
      },
      "outputs": [
        {
          "data": {
            "text/plain": [
              "array([0.46898628, 0.3131113 ])"
            ]
          },
          "execution_count": 89,
          "metadata": {
            "tags": []
          },
          "output_type": "execute_result"
        }
      ],
      "source": [
        "# Imprimindo o primeiro elemento (1 linha)\n",
        "my_array[0]"
      ]
    },
    {
      "cell_type": "code",
      "execution_count": null,
      "metadata": {
        "colab": {
          "base_uri": "https://localhost:8080/",
          "height": 33
        },
        "id": "C49BTWSuVNA8",
        "outputId": "7e518173-dcf4-41fc-d47d-e8d6e7d59b11"
      },
      "outputs": [
        {
          "data": {
            "text/plain": [
              "0.46898628448378177"
            ]
          },
          "execution_count": 90,
          "metadata": {
            "tags": []
          },
          "output_type": "execute_result"
        }
      ],
      "source": [
        "# Imprimindo o primeiro elemento da coluna 0 (1 coluna)\n",
        "my_array[0][0]"
      ]
    },
    {
      "cell_type": "code",
      "execution_count": null,
      "metadata": {
        "colab": {
          "base_uri": "https://localhost:8080/",
          "height": 33
        },
        "id": "GYYq_GCnVNA-",
        "outputId": "e65fa0f7-84f3-4e35-e498-dce6e3f01ab6"
      },
      "outputs": [
        {
          "data": {
            "text/plain": [
              "0.31311129934786774"
            ]
          },
          "execution_count": 91,
          "metadata": {
            "tags": []
          },
          "output_type": "execute_result"
        }
      ],
      "source": [
        "# Primeiro elemento da coluna 1\n",
        "my_array[0][1]"
      ]
    },
    {
      "cell_type": "code",
      "execution_count": null,
      "metadata": {
        "colab": {
          "base_uri": "https://localhost:8080/",
          "height": 33
        },
        "id": "38L6hVwFVNBB",
        "outputId": "d1acb032-10da-44f5-ee64-607457dbc887"
      },
      "outputs": [
        {
          "data": {
            "text/plain": [
              "0.39618622551847493"
            ]
          },
          "execution_count": 92,
          "metadata": {
            "tags": []
          },
          "output_type": "execute_result"
        }
      ],
      "source": [
        "# Segundo elemento da coluna 1\n",
        "my_array[1][1]"
      ]
    },
    {
      "cell_type": "code",
      "execution_count": null,
      "metadata": {
        "colab": {
          "base_uri": "https://localhost:8080/",
          "height": 184
        },
        "id": "lVU5N-ncxbDk",
        "outputId": "626b1d6a-40b0-4ba9-c11c-54e380e75f3f"
      },
      "outputs": [
        {
          "data": {
            "text/plain": [
              "array([[0.46898628, 0.3131113 ],\n",
              "       [0.96759925, 0.39618623],\n",
              "       [0.78772397, 0.95581615],\n",
              "       [0.74547418, 0.86815068],\n",
              "       [0.862798  , 0.65737109],\n",
              "       [0.55265883, 0.53467372],\n",
              "       [0.52782129, 0.19306453],\n",
              "       [0.47747601, 0.46451321],\n",
              "       [0.11498045, 0.27941041],\n",
              "       [0.10564847, 0.23500597]])"
            ]
          },
          "execution_count": 93,
          "metadata": {
            "tags": []
          },
          "output_type": "execute_result"
        }
      ],
      "source": [
        "my_array"
      ]
    },
    {
      "cell_type": "code",
      "execution_count": null,
      "metadata": {
        "colab": {
          "base_uri": "https://localhost:8080/",
          "height": 33
        },
        "id": "VmeyBz5FVNBF",
        "outputId": "71e1dd91-8399-4f2c-9a52-429c49fe282a"
      },
      "outputs": [
        {
          "data": {
            "text/plain": [
              "array([0.3131113 , 0.39618623, 0.95581615])"
            ]
          },
          "execution_count": 95,
          "metadata": {
            "tags": []
          },
          "output_type": "execute_result"
        }
      ],
      "source": [
        "# Imprimindo até 3 valores da coluna 1\n",
        "my_array[:3,1]"
      ]
    },
    {
      "cell_type": "code",
      "execution_count": null,
      "metadata": {
        "colab": {
          "base_uri": "https://localhost:8080/",
          "height": 50
        },
        "id": "pvTLH1P0VNBG",
        "outputId": "af59bf94-92b6-4485-973d-5b5cf2eaf6c9"
      },
      "outputs": [
        {
          "data": {
            "text/plain": [
              "array([3.13111299, 3.96186226, 9.55816153, 8.68150682, 6.57371089,\n",
              "       5.34673718, 1.93064534, 4.64513205, 2.79410408, 2.35005969])"
            ]
          },
          "execution_count": 96,
          "metadata": {
            "tags": []
          },
          "output_type": "execute_result"
        }
      ],
      "source": [
        "# Imprime todas as linhas da coluna 2 * 10\n",
        "my_array[:,1] * 10"
      ]
    },
    {
      "cell_type": "code",
      "execution_count": null,
      "metadata": {
        "id": "crqaVTB2VNBI"
      },
      "outputs": [],
      "source": [
        "# Comparação retorna indices\n",
        "my_array > 0.50"
      ]
    },
    {
      "cell_type": "code",
      "execution_count": null,
      "metadata": {
        "id": "i-6rEQPgVNBK"
      },
      "outputs": [],
      "source": [
        "# Acessando valores por índices\n",
        "my_array[my_array > 0.50]"
      ]
    },
    {
      "cell_type": "markdown",
      "metadata": {
        "id": "ngERkIw2Vf3a"
      },
      "source": [
        "# Trabalhando com Valores Missing"
      ]
    },
    {
      "cell_type": "markdown",
      "metadata": {
        "id": "w4rHSKZhVf3b"
      },
      "source": [
        "* **Missing Values** são valores faltantes em colunas, esses podem ser oriundos de falhas em cargas de dados, falhas em crawlers ou até mesmo corrupção de dados.\n",
        "\n",
        "* Missing Values podem ser um problema em várias situações, como por exemplo, algoritmos de machine learning que não trabalham bem com dados faltantes.\n",
        "\n",
        "* Estes também podem atrapalhar resultados de análises.\n",
        "\n",
        "* Vamos aprender como encontrar missing values na base de dados e como manipular esses valores."
      ]
    },
    {
      "cell_type": "code",
      "execution_count": null,
      "metadata": {
        "id": "uNJR8idKVf3b"
      },
      "outputs": [],
      "source": [
        "import matplotlib\n",
        "\n",
        "\n",
        "import pandas as pd\n",
        "arquivo = 'house.csv'\n",
        "dataset = pd.read_csv(arquivo, sep=',', header=0)"
      ]
    },
    {
      "cell_type": "code",
      "execution_count": null,
      "metadata": {
        "id": "BFOBY9Xi1kl5"
      },
      "outputs": [],
      "source": [
        "dataset.head()"
      ]
    },
    {
      "cell_type": "code",
      "execution_count": null,
      "metadata": {
        "colab": {
          "base_uri": "https://localhost:8080/",
          "height": 385
        },
        "id": "hBGDmQ6yVf3c",
        "outputId": "997eb37e-af2e-4470-d063-ae92f7f211c9"
      },
      "outputs": [
        {
          "data": {
            "text/plain": [
              "id               0\n",
              "date             0\n",
              "price            0\n",
              "bedrooms         4\n",
              "bathrooms        0\n",
              "sqft_living      0\n",
              "sqft_lot         0\n",
              "floors           0\n",
              "waterfront       0\n",
              "view             0\n",
              "condition        0\n",
              "grade            0\n",
              "sqft_above       0\n",
              "sqft_basement    0\n",
              "yr_built         0\n",
              "yr_renovated     0\n",
              "zipcode          0\n",
              "lat              0\n",
              "long             0\n",
              "sqft_living15    0\n",
              "sqft_lot15       0\n",
              "dtype: int64"
            ]
          },
          "execution_count": 115,
          "metadata": {
            "tags": []
          },
          "output_type": "execute_result"
        }
      ],
      "source": [
        "# Consultando linhas com valores faltantes.\n",
        "dataset.isnull().sum()"
      ]
    },
    {
      "cell_type": "code",
      "execution_count": null,
      "metadata": {
        "id": "-KJ5QxyIVf3d"
      },
      "outputs": [],
      "source": [
        "#Com este comando removemos todas as linhas onde tenha pela menos um registro faltante em algum atributo.\n",
        "dataset.dropna(inplace=True)"
      ]
    },
    {
      "cell_type": "code",
      "execution_count": null,
      "metadata": {
        "id": "oHjLSugXVf3e"
      },
      "outputs": [],
      "source": [
        "# É possível ainda, remover somente linhas que estejam com valores faltantes em todas as colunas, veja:\n",
        "dataset.dropna(how='all', inplace=True)"
      ]
    },
    {
      "cell_type": "code",
      "execution_count": null,
      "metadata": {
        "id": "tLRudpTZVf3f"
      },
      "outputs": [],
      "source": [
        "#preenche com a media dos valores da coluns floors os values null\n",
        "dataset['floors'].fillna(dataset['floors'].mean(), inplace=True)"
      ]
    },
    {
      "cell_type": "code",
      "execution_count": null,
      "metadata": {
        "id": "soYc9iXFVf3h"
      },
      "outputs": [],
      "source": [
        "#preenche com 1 os values null da coluna bedrooms\n",
        "dataset['bedrooms'].fillna(1, inplace=True)"
      ]
    },
    {
      "cell_type": "markdown",
      "metadata": {
        "id": "Av9soURmVc1R"
      },
      "source": [
        "# Visualização Gráfica - Extraindo Insights"
      ]
    },
    {
      "cell_type": "markdown",
      "metadata": {
        "id": "NR4IaCBLVc1R"
      },
      "source": [
        "* Vamos agora trabalhar com um tipo de gráfico muito interessante.\n",
        "\n",
        "* Os gráficos do tipo Boxplot são excelentes ferramentas de análise de dados, principalmente para identificar _**outliers**_."
      ]
    },
    {
      "cell_type": "code",
      "execution_count": null,
      "metadata": {
        "id": "YJrFCFxyVc1R"
      },
      "outputs": [],
      "source": [
        "import matplotlib"
      ]
    },
    {
      "cell_type": "code",
      "execution_count": null,
      "metadata": {
        "id": "94Yd0SYdAvgD"
      },
      "outputs": [],
      "source": [
        "import pandas as pd\n",
        "arquivo = 'house.csv'\n",
        "dataset = pd.read_csv(arquivo, sep=',', header=0)"
      ]
    },
    {
      "cell_type": "code",
      "execution_count": null,
      "metadata": {
        "id": "vZDLrfQtVc1T",
        "outputId": "013b9ff6-4520-41f8-ca22-418f8a068ff2"
      },
      "outputs": [
        {
          "data": {
            "application/javascript": [
              "/* Put everything inside the global mpl namespace */\n",
              "window.mpl = {};\n",
              "\n",
              "\n",
              "mpl.get_websocket_type = function() {\n",
              "    if (typeof(WebSocket) !== 'undefined') {\n",
              "        return WebSocket;\n",
              "    } else if (typeof(MozWebSocket) !== 'undefined') {\n",
              "        return MozWebSocket;\n",
              "    } else {\n",
              "        alert('Your browser does not have WebSocket support. ' +\n",
              "              'Please try Chrome, Safari or Firefox ≥ 6. ' +\n",
              "              'Firefox 4 and 5 are also supported but you ' +\n",
              "              'have to enable WebSockets in about:config.');\n",
              "    };\n",
              "}\n",
              "\n",
              "mpl.figure = function(figure_id, websocket, ondownload, parent_element) {\n",
              "    this.id = figure_id;\n",
              "\n",
              "    this.ws = websocket;\n",
              "\n",
              "    this.supports_binary = (this.ws.binaryType != undefined);\n",
              "\n",
              "    if (!this.supports_binary) {\n",
              "        var warnings = document.getElementById(\"mpl-warnings\");\n",
              "        if (warnings) {\n",
              "            warnings.style.display = 'block';\n",
              "            warnings.textContent = (\n",
              "                \"This browser does not support binary websocket messages. \" +\n",
              "                    \"Performance may be slow.\");\n",
              "        }\n",
              "    }\n",
              "\n",
              "    this.imageObj = new Image();\n",
              "\n",
              "    this.context = undefined;\n",
              "    this.message = undefined;\n",
              "    this.canvas = undefined;\n",
              "    this.rubberband_canvas = undefined;\n",
              "    this.rubberband_context = undefined;\n",
              "    this.format_dropdown = undefined;\n",
              "\n",
              "    this.image_mode = 'full';\n",
              "\n",
              "    this.root = $('<div/>');\n",
              "    this._root_extra_style(this.root)\n",
              "    this.root.attr('style', 'display: inline-block');\n",
              "\n",
              "    $(parent_element).append(this.root);\n",
              "\n",
              "    this._init_header(this);\n",
              "    this._init_canvas(this);\n",
              "    this._init_toolbar(this);\n",
              "\n",
              "    var fig = this;\n",
              "\n",
              "    this.waiting = false;\n",
              "\n",
              "    this.ws.onopen =  function () {\n",
              "            fig.send_message(\"supports_binary\", {value: fig.supports_binary});\n",
              "            fig.send_message(\"send_image_mode\", {});\n",
              "            if (mpl.ratio != 1) {\n",
              "                fig.send_message(\"set_dpi_ratio\", {'dpi_ratio': mpl.ratio});\n",
              "            }\n",
              "            fig.send_message(\"refresh\", {});\n",
              "        }\n",
              "\n",
              "    this.imageObj.onload = function() {\n",
              "            if (fig.image_mode == 'full') {\n",
              "                // Full images could contain transparency (where diff images\n",
              "                // almost always do), so we need to clear the canvas so that\n",
              "                // there is no ghosting.\n",
              "                fig.context.clearRect(0, 0, fig.canvas.width, fig.canvas.height);\n",
              "            }\n",
              "            fig.context.drawImage(fig.imageObj, 0, 0);\n",
              "        };\n",
              "\n",
              "    this.imageObj.onunload = function() {\n",
              "        fig.ws.close();\n",
              "    }\n",
              "\n",
              "    this.ws.onmessage = this._make_on_message_function(this);\n",
              "\n",
              "    this.ondownload = ondownload;\n",
              "}\n",
              "\n",
              "mpl.figure.prototype._init_header = function() {\n",
              "    var titlebar = $(\n",
              "        '<div class=\"ui-dialog-titlebar ui-widget-header ui-corner-all ' +\n",
              "        'ui-helper-clearfix\"/>');\n",
              "    var titletext = $(\n",
              "        '<div class=\"ui-dialog-title\" style=\"width: 100%; ' +\n",
              "        'text-align: center; padding: 3px;\"/>');\n",
              "    titlebar.append(titletext)\n",
              "    this.root.append(titlebar);\n",
              "    this.header = titletext[0];\n",
              "}\n",
              "\n",
              "\n",
              "\n",
              "mpl.figure.prototype._canvas_extra_style = function(canvas_div) {\n",
              "\n",
              "}\n",
              "\n",
              "\n",
              "mpl.figure.prototype._root_extra_style = function(canvas_div) {\n",
              "\n",
              "}\n",
              "\n",
              "mpl.figure.prototype._init_canvas = function() {\n",
              "    var fig = this;\n",
              "\n",
              "    var canvas_div = $('<div/>');\n",
              "\n",
              "    canvas_div.attr('style', 'position: relative; clear: both; outline: 0');\n",
              "\n",
              "    function canvas_keyboard_event(event) {\n",
              "        return fig.key_event(event, event['data']);\n",
              "    }\n",
              "\n",
              "    canvas_div.keydown('key_press', canvas_keyboard_event);\n",
              "    canvas_div.keyup('key_release', canvas_keyboard_event);\n",
              "    this.canvas_div = canvas_div\n",
              "    this._canvas_extra_style(canvas_div)\n",
              "    this.root.append(canvas_div);\n",
              "\n",
              "    var canvas = $('<canvas/>');\n",
              "    canvas.addClass('mpl-canvas');\n",
              "    canvas.attr('style', \"left: 0; top: 0; z-index: 0; outline: 0\")\n",
              "\n",
              "    this.canvas = canvas[0];\n",
              "    this.context = canvas[0].getContext(\"2d\");\n",
              "\n",
              "    var backingStore = this.context.backingStorePixelRatio ||\n",
              "\tthis.context.webkitBackingStorePixelRatio ||\n",
              "\tthis.context.mozBackingStorePixelRatio ||\n",
              "\tthis.context.msBackingStorePixelRatio ||\n",
              "\tthis.context.oBackingStorePixelRatio ||\n",
              "\tthis.context.backingStorePixelRatio || 1;\n",
              "\n",
              "    mpl.ratio = (window.devicePixelRatio || 1) / backingStore;\n",
              "\n",
              "    var rubberband = $('<canvas/>');\n",
              "    rubberband.attr('style', \"position: absolute; left: 0; top: 0; z-index: 1;\")\n",
              "\n",
              "    var pass_mouse_events = true;\n",
              "\n",
              "    canvas_div.resizable({\n",
              "        start: function(event, ui) {\n",
              "            pass_mouse_events = false;\n",
              "        },\n",
              "        resize: function(event, ui) {\n",
              "            fig.request_resize(ui.size.width, ui.size.height);\n",
              "        },\n",
              "        stop: function(event, ui) {\n",
              "            pass_mouse_events = true;\n",
              "            fig.request_resize(ui.size.width, ui.size.height);\n",
              "        },\n",
              "    });\n",
              "\n",
              "    function mouse_event_fn(event) {\n",
              "        if (pass_mouse_events)\n",
              "            return fig.mouse_event(event, event['data']);\n",
              "    }\n",
              "\n",
              "    rubberband.mousedown('button_press', mouse_event_fn);\n",
              "    rubberband.mouseup('button_release', mouse_event_fn);\n",
              "    // Throttle sequential mouse events to 1 every 20ms.\n",
              "    rubberband.mousemove('motion_notify', mouse_event_fn);\n",
              "\n",
              "    rubberband.mouseenter('figure_enter', mouse_event_fn);\n",
              "    rubberband.mouseleave('figure_leave', mouse_event_fn);\n",
              "\n",
              "    canvas_div.on(\"wheel\", function (event) {\n",
              "        event = event.originalEvent;\n",
              "        event['data'] = 'scroll'\n",
              "        if (event.deltaY < 0) {\n",
              "            event.step = 1;\n",
              "        } else {\n",
              "            event.step = -1;\n",
              "        }\n",
              "        mouse_event_fn(event);\n",
              "    });\n",
              "\n",
              "    canvas_div.append(canvas);\n",
              "    canvas_div.append(rubberband);\n",
              "\n",
              "    this.rubberband = rubberband;\n",
              "    this.rubberband_canvas = rubberband[0];\n",
              "    this.rubberband_context = rubberband[0].getContext(\"2d\");\n",
              "    this.rubberband_context.strokeStyle = \"#000000\";\n",
              "\n",
              "    this._resize_canvas = function(width, height) {\n",
              "        // Keep the size of the canvas, canvas container, and rubber band\n",
              "        // canvas in synch.\n",
              "        canvas_div.css('width', width)\n",
              "        canvas_div.css('height', height)\n",
              "\n",
              "        canvas.attr('width', width * mpl.ratio);\n",
              "        canvas.attr('height', height * mpl.ratio);\n",
              "        canvas.attr('style', 'width: ' + width + 'px; height: ' + height + 'px;');\n",
              "\n",
              "        rubberband.attr('width', width);\n",
              "        rubberband.attr('height', height);\n",
              "    }\n",
              "\n",
              "    // Set the figure to an initial 600x600px, this will subsequently be updated\n",
              "    // upon first draw.\n",
              "    this._resize_canvas(600, 600);\n",
              "\n",
              "    // Disable right mouse context menu.\n",
              "    $(this.rubberband_canvas).bind(\"contextmenu\",function(e){\n",
              "        return false;\n",
              "    });\n",
              "\n",
              "    function set_focus () {\n",
              "        canvas.focus();\n",
              "        canvas_div.focus();\n",
              "    }\n",
              "\n",
              "    window.setTimeout(set_focus, 100);\n",
              "}\n",
              "\n",
              "mpl.figure.prototype._init_toolbar = function() {\n",
              "    var fig = this;\n",
              "\n",
              "    var nav_element = $('<div/>');\n",
              "    nav_element.attr('style', 'width: 100%');\n",
              "    this.root.append(nav_element);\n",
              "\n",
              "    // Define a callback function for later on.\n",
              "    function toolbar_event(event) {\n",
              "        return fig.toolbar_button_onclick(event['data']);\n",
              "    }\n",
              "    function toolbar_mouse_event(event) {\n",
              "        return fig.toolbar_button_onmouseover(event['data']);\n",
              "    }\n",
              "\n",
              "    for(var toolbar_ind in mpl.toolbar_items) {\n",
              "        var name = mpl.toolbar_items[toolbar_ind][0];\n",
              "        var tooltip = mpl.toolbar_items[toolbar_ind][1];\n",
              "        var image = mpl.toolbar_items[toolbar_ind][2];\n",
              "        var method_name = mpl.toolbar_items[toolbar_ind][3];\n",
              "\n",
              "        if (!name) {\n",
              "            // put a spacer in here.\n",
              "            continue;\n",
              "        }\n",
              "        var button = $('<button/>');\n",
              "        button.addClass('ui-button ui-widget ui-state-default ui-corner-all ' +\n",
              "                        'ui-button-icon-only');\n",
              "        button.attr('role', 'button');\n",
              "        button.attr('aria-disabled', 'false');\n",
              "        button.click(method_name, toolbar_event);\n",
              "        button.mouseover(tooltip, toolbar_mouse_event);\n",
              "\n",
              "        var icon_img = $('<span/>');\n",
              "        icon_img.addClass('ui-button-icon-primary ui-icon');\n",
              "        icon_img.addClass(image);\n",
              "        icon_img.addClass('ui-corner-all');\n",
              "\n",
              "        var tooltip_span = $('<span/>');\n",
              "        tooltip_span.addClass('ui-button-text');\n",
              "        tooltip_span.html(tooltip);\n",
              "\n",
              "        button.append(icon_img);\n",
              "        button.append(tooltip_span);\n",
              "\n",
              "        nav_element.append(button);\n",
              "    }\n",
              "\n",
              "    var fmt_picker_span = $('<span/>');\n",
              "\n",
              "    var fmt_picker = $('<select/>');\n",
              "    fmt_picker.addClass('mpl-toolbar-option ui-widget ui-widget-content');\n",
              "    fmt_picker_span.append(fmt_picker);\n",
              "    nav_element.append(fmt_picker_span);\n",
              "    this.format_dropdown = fmt_picker[0];\n",
              "\n",
              "    for (var ind in mpl.extensions) {\n",
              "        var fmt = mpl.extensions[ind];\n",
              "        var option = $(\n",
              "            '<option/>', {selected: fmt === mpl.default_extension}).html(fmt);\n",
              "        fmt_picker.append(option);\n",
              "    }\n",
              "\n",
              "    // Add hover states to the ui-buttons\n",
              "    $( \".ui-button\" ).hover(\n",
              "        function() { $(this).addClass(\"ui-state-hover\");},\n",
              "        function() { $(this).removeClass(\"ui-state-hover\");}\n",
              "    );\n",
              "\n",
              "    var status_bar = $('<span class=\"mpl-message\"/>');\n",
              "    nav_element.append(status_bar);\n",
              "    this.message = status_bar[0];\n",
              "}\n",
              "\n",
              "mpl.figure.prototype.request_resize = function(x_pixels, y_pixels) {\n",
              "    // Request matplotlib to resize the figure. Matplotlib will then trigger a resize in the client,\n",
              "    // which will in turn request a refresh of the image.\n",
              "    this.send_message('resize', {'width': x_pixels, 'height': y_pixels});\n",
              "}\n",
              "\n",
              "mpl.figure.prototype.send_message = function(type, properties) {\n",
              "    properties['type'] = type;\n",
              "    properties['figure_id'] = this.id;\n",
              "    this.ws.send(JSON.stringify(properties));\n",
              "}\n",
              "\n",
              "mpl.figure.prototype.send_draw_message = function() {\n",
              "    if (!this.waiting) {\n",
              "        this.waiting = true;\n",
              "        this.ws.send(JSON.stringify({type: \"draw\", figure_id: this.id}));\n",
              "    }\n",
              "}\n",
              "\n",
              "\n",
              "mpl.figure.prototype.handle_save = function(fig, msg) {\n",
              "    var format_dropdown = fig.format_dropdown;\n",
              "    var format = format_dropdown.options[format_dropdown.selectedIndex].value;\n",
              "    fig.ondownload(fig, format);\n",
              "}\n",
              "\n",
              "\n",
              "mpl.figure.prototype.handle_resize = function(fig, msg) {\n",
              "    var size = msg['size'];\n",
              "    if (size[0] != fig.canvas.width || size[1] != fig.canvas.height) {\n",
              "        fig._resize_canvas(size[0], size[1]);\n",
              "        fig.send_message(\"refresh\", {});\n",
              "    };\n",
              "}\n",
              "\n",
              "mpl.figure.prototype.handle_rubberband = function(fig, msg) {\n",
              "    var x0 = msg['x0'] / mpl.ratio;\n",
              "    var y0 = (fig.canvas.height - msg['y0']) / mpl.ratio;\n",
              "    var x1 = msg['x1'] / mpl.ratio;\n",
              "    var y1 = (fig.canvas.height - msg['y1']) / mpl.ratio;\n",
              "    x0 = Math.floor(x0) + 0.5;\n",
              "    y0 = Math.floor(y0) + 0.5;\n",
              "    x1 = Math.floor(x1) + 0.5;\n",
              "    y1 = Math.floor(y1) + 0.5;\n",
              "    var min_x = Math.min(x0, x1);\n",
              "    var min_y = Math.min(y0, y1);\n",
              "    var width = Math.abs(x1 - x0);\n",
              "    var height = Math.abs(y1 - y0);\n",
              "\n",
              "    fig.rubberband_context.clearRect(\n",
              "        0, 0, fig.canvas.width / mpl.ratio, fig.canvas.height / mpl.ratio);\n",
              "\n",
              "    fig.rubberband_context.strokeRect(min_x, min_y, width, height);\n",
              "}\n",
              "\n",
              "mpl.figure.prototype.handle_figure_label = function(fig, msg) {\n",
              "    // Updates the figure title.\n",
              "    fig.header.textContent = msg['label'];\n",
              "}\n",
              "\n",
              "mpl.figure.prototype.handle_cursor = function(fig, msg) {\n",
              "    var cursor = msg['cursor'];\n",
              "    switch(cursor)\n",
              "    {\n",
              "    case 0:\n",
              "        cursor = 'pointer';\n",
              "        break;\n",
              "    case 1:\n",
              "        cursor = 'default';\n",
              "        break;\n",
              "    case 2:\n",
              "        cursor = 'crosshair';\n",
              "        break;\n",
              "    case 3:\n",
              "        cursor = 'move';\n",
              "        break;\n",
              "    }\n",
              "    fig.rubberband_canvas.style.cursor = cursor;\n",
              "}\n",
              "\n",
              "mpl.figure.prototype.handle_message = function(fig, msg) {\n",
              "    fig.message.textContent = msg['message'];\n",
              "}\n",
              "\n",
              "mpl.figure.prototype.handle_draw = function(fig, msg) {\n",
              "    // Request the server to send over a new figure.\n",
              "    fig.send_draw_message();\n",
              "}\n",
              "\n",
              "mpl.figure.prototype.handle_image_mode = function(fig, msg) {\n",
              "    fig.image_mode = msg['mode'];\n",
              "}\n",
              "\n",
              "mpl.figure.prototype.updated_canvas_event = function() {\n",
              "    // Called whenever the canvas gets updated.\n",
              "    this.send_message(\"ack\", {});\n",
              "}\n",
              "\n",
              "// A function to construct a web socket function for onmessage handling.\n",
              "// Called in the figure constructor.\n",
              "mpl.figure.prototype._make_on_message_function = function(fig) {\n",
              "    return function socket_on_message(evt) {\n",
              "        if (evt.data instanceof Blob) {\n",
              "            /* FIXME: We get \"Resource interpreted as Image but\n",
              "             * transferred with MIME type text/plain:\" errors on\n",
              "             * Chrome.  But how to set the MIME type?  It doesn't seem\n",
              "             * to be part of the websocket stream */\n",
              "            evt.data.type = \"image/png\";\n",
              "\n",
              "            /* Free the memory for the previous frames */\n",
              "            if (fig.imageObj.src) {\n",
              "                (window.URL || window.webkitURL).revokeObjectURL(\n",
              "                    fig.imageObj.src);\n",
              "            }\n",
              "\n",
              "            fig.imageObj.src = (window.URL || window.webkitURL).createObjectURL(\n",
              "                evt.data);\n",
              "            fig.updated_canvas_event();\n",
              "            fig.waiting = false;\n",
              "            return;\n",
              "        }\n",
              "        else if (typeof evt.data === 'string' && evt.data.slice(0, 21) == \"data:image/png;base64\") {\n",
              "            fig.imageObj.src = evt.data;\n",
              "            fig.updated_canvas_event();\n",
              "            fig.waiting = false;\n",
              "            return;\n",
              "        }\n",
              "\n",
              "        var msg = JSON.parse(evt.data);\n",
              "        var msg_type = msg['type'];\n",
              "\n",
              "        // Call the  \"handle_{type}\" callback, which takes\n",
              "        // the figure and JSON message as its only arguments.\n",
              "        try {\n",
              "            var callback = fig[\"handle_\" + msg_type];\n",
              "        } catch (e) {\n",
              "            console.log(\"No handler for the '\" + msg_type + \"' message type: \", msg);\n",
              "            return;\n",
              "        }\n",
              "\n",
              "        if (callback) {\n",
              "            try {\n",
              "                // console.log(\"Handling '\" + msg_type + \"' message: \", msg);\n",
              "                callback(fig, msg);\n",
              "            } catch (e) {\n",
              "                console.log(\"Exception inside the 'handler_\" + msg_type + \"' callback:\", e, e.stack, msg);\n",
              "            }\n",
              "        }\n",
              "    };\n",
              "}\n",
              "\n",
              "// from http://stackoverflow.com/questions/1114465/getting-mouse-location-in-canvas\n",
              "mpl.findpos = function(e) {\n",
              "    //this section is from http://www.quirksmode.org/js/events_properties.html\n",
              "    var targ;\n",
              "    if (!e)\n",
              "        e = window.event;\n",
              "    if (e.target)\n",
              "        targ = e.target;\n",
              "    else if (e.srcElement)\n",
              "        targ = e.srcElement;\n",
              "    if (targ.nodeType == 3) // defeat Safari bug\n",
              "        targ = targ.parentNode;\n",
              "\n",
              "    // jQuery normalizes the pageX and pageY\n",
              "    // pageX,Y are the mouse positions relative to the document\n",
              "    // offset() returns the position of the element relative to the document\n",
              "    var x = e.pageX - $(targ).offset().left;\n",
              "    var y = e.pageY - $(targ).offset().top;\n",
              "\n",
              "    return {\"x\": x, \"y\": y};\n",
              "};\n",
              "\n",
              "/*\n",
              " * return a copy of an object with only non-object keys\n",
              " * we need this to avoid circular references\n",
              " * http://stackoverflow.com/a/24161582/3208463\n",
              " */\n",
              "function simpleKeys (original) {\n",
              "  return Object.keys(original).reduce(function (obj, key) {\n",
              "    if (typeof original[key] !== 'object')\n",
              "        obj[key] = original[key]\n",
              "    return obj;\n",
              "  }, {});\n",
              "}\n",
              "\n",
              "mpl.figure.prototype.mouse_event = function(event, name) {\n",
              "    var canvas_pos = mpl.findpos(event)\n",
              "\n",
              "    if (name === 'button_press')\n",
              "    {\n",
              "        this.canvas.focus();\n",
              "        this.canvas_div.focus();\n",
              "    }\n",
              "\n",
              "    var x = canvas_pos.x * mpl.ratio;\n",
              "    var y = canvas_pos.y * mpl.ratio;\n",
              "\n",
              "    this.send_message(name, {x: x, y: y, button: event.button,\n",
              "                             step: event.step,\n",
              "                             guiEvent: simpleKeys(event)});\n",
              "\n",
              "    /* This prevents the web browser from automatically changing to\n",
              "     * the text insertion cursor when the button is pressed.  We want\n",
              "     * to control all of the cursor setting manually through the\n",
              "     * 'cursor' event from matplotlib */\n",
              "    event.preventDefault();\n",
              "    return false;\n",
              "}\n",
              "\n",
              "mpl.figure.prototype._key_event_extra = function(event, name) {\n",
              "    // Handle any extra behaviour associated with a key event\n",
              "}\n",
              "\n",
              "mpl.figure.prototype.key_event = function(event, name) {\n",
              "\n",
              "    // Prevent repeat events\n",
              "    if (name == 'key_press')\n",
              "    {\n",
              "        if (event.which === this._key)\n",
              "            return;\n",
              "        else\n",
              "            this._key = event.which;\n",
              "    }\n",
              "    if (name == 'key_release')\n",
              "        this._key = null;\n",
              "\n",
              "    var value = '';\n",
              "    if (event.ctrlKey && event.which != 17)\n",
              "        value += \"ctrl+\";\n",
              "    if (event.altKey && event.which != 18)\n",
              "        value += \"alt+\";\n",
              "    if (event.shiftKey && event.which != 16)\n",
              "        value += \"shift+\";\n",
              "\n",
              "    value += 'k';\n",
              "    value += event.which.toString();\n",
              "\n",
              "    this._key_event_extra(event, name);\n",
              "\n",
              "    this.send_message(name, {key: value,\n",
              "                             guiEvent: simpleKeys(event)});\n",
              "    return false;\n",
              "}\n",
              "\n",
              "mpl.figure.prototype.toolbar_button_onclick = function(name) {\n",
              "    if (name == 'download') {\n",
              "        this.handle_save(this, null);\n",
              "    } else {\n",
              "        this.send_message(\"toolbar_button\", {name: name});\n",
              "    }\n",
              "};\n",
              "\n",
              "mpl.figure.prototype.toolbar_button_onmouseover = function(tooltip) {\n",
              "    this.message.textContent = tooltip;\n",
              "};\n",
              "mpl.toolbar_items = [[\"Home\", \"Reset original view\", \"fa fa-home icon-home\", \"home\"], [\"Back\", \"Back to previous view\", \"fa fa-arrow-left icon-arrow-left\", \"back\"], [\"Forward\", \"Forward to next view\", \"fa fa-arrow-right icon-arrow-right\", \"forward\"], [\"\", \"\", \"\", \"\"], [\"Pan\", \"Pan axes with left mouse, zoom with right\", \"fa fa-arrows icon-move\", \"pan\"], [\"Zoom\", \"Zoom to rectangle\", \"fa fa-square-o icon-check-empty\", \"zoom\"], [\"\", \"\", \"\", \"\"], [\"Download\", \"Download plot\", \"fa fa-floppy-o icon-save\", \"download\"]];\n",
              "\n",
              "mpl.extensions = [\"eps\", \"jpeg\", \"pdf\", \"png\", \"ps\", \"raw\", \"svg\", \"tif\"];\n",
              "\n",
              "mpl.default_extension = \"png\";var comm_websocket_adapter = function(comm) {\n",
              "    // Create a \"websocket\"-like object which calls the given IPython comm\n",
              "    // object with the appropriate methods. Currently this is a non binary\n",
              "    // socket, so there is still some room for performance tuning.\n",
              "    var ws = {};\n",
              "\n",
              "    ws.close = function() {\n",
              "        comm.close()\n",
              "    };\n",
              "    ws.send = function(m) {\n",
              "        //console.log('sending', m);\n",
              "        comm.send(m);\n",
              "    };\n",
              "    // Register the callback with on_msg.\n",
              "    comm.on_msg(function(msg) {\n",
              "        //console.log('receiving', msg['content']['data'], msg);\n",
              "        // Pass the mpl event to the overridden (by mpl) onmessage function.\n",
              "        ws.onmessage(msg['content']['data'])\n",
              "    });\n",
              "    return ws;\n",
              "}\n",
              "\n",
              "mpl.mpl_figure_comm = function(comm, msg) {\n",
              "    // This is the function which gets called when the mpl process\n",
              "    // starts-up an IPython Comm through the \"matplotlib\" channel.\n",
              "\n",
              "    var id = msg.content.data.id;\n",
              "    // Get hold of the div created by the display call when the Comm\n",
              "    // socket was opened in Python.\n",
              "    var element = $(\"#\" + id);\n",
              "    var ws_proxy = comm_websocket_adapter(comm)\n",
              "\n",
              "    function ondownload(figure, format) {\n",
              "        window.open(figure.imageObj.src);\n",
              "    }\n",
              "\n",
              "    var fig = new mpl.figure(id, ws_proxy,\n",
              "                           ondownload,\n",
              "                           element.get(0));\n",
              "\n",
              "    // Call onopen now - mpl needs it, as it is assuming we've passed it a real\n",
              "    // web socket which is closed, not our websocket->open comm proxy.\n",
              "    ws_proxy.onopen();\n",
              "\n",
              "    fig.parent_element = element.get(0);\n",
              "    fig.cell_info = mpl.find_output_cell(\"<div id='\" + id + \"'></div>\");\n",
              "    if (!fig.cell_info) {\n",
              "        console.error(\"Failed to find cell for figure\", id, fig);\n",
              "        return;\n",
              "    }\n",
              "\n",
              "    var output_index = fig.cell_info[2]\n",
              "    var cell = fig.cell_info[0];\n",
              "\n",
              "};\n",
              "\n",
              "mpl.figure.prototype.handle_close = function(fig, msg) {\n",
              "    var width = fig.canvas.width/mpl.ratio\n",
              "    fig.root.unbind('remove')\n",
              "\n",
              "    // Update the output cell to use the data from the current canvas.\n",
              "    fig.push_to_output();\n",
              "    var dataURL = fig.canvas.toDataURL();\n",
              "    // Re-enable the keyboard manager in IPython - without this line, in FF,\n",
              "    // the notebook keyboard shortcuts fail.\n",
              "    IPython.keyboard_manager.enable()\n",
              "    $(fig.parent_element).html('<img src=\"' + dataURL + '\" width=\"' + width + '\">');\n",
              "    fig.close_ws(fig, msg);\n",
              "}\n",
              "\n",
              "mpl.figure.prototype.close_ws = function(fig, msg){\n",
              "    fig.send_message('closing', msg);\n",
              "    // fig.ws.close()\n",
              "}\n",
              "\n",
              "mpl.figure.prototype.push_to_output = function(remove_interactive) {\n",
              "    // Turn the data on the canvas into data in the output cell.\n",
              "    var width = this.canvas.width/mpl.ratio\n",
              "    var dataURL = this.canvas.toDataURL();\n",
              "    this.cell_info[1]['text/html'] = '<img src=\"' + dataURL + '\" width=\"' + width + '\">';\n",
              "}\n",
              "\n",
              "mpl.figure.prototype.updated_canvas_event = function() {\n",
              "    // Tell IPython that the notebook contents must change.\n",
              "    IPython.notebook.set_dirty(true);\n",
              "    this.send_message(\"ack\", {});\n",
              "    var fig = this;\n",
              "    // Wait a second, then push the new image to the DOM so\n",
              "    // that it is saved nicely (might be nice to debounce this).\n",
              "    setTimeout(function () { fig.push_to_output() }, 1000);\n",
              "}\n",
              "\n",
              "mpl.figure.prototype._init_toolbar = function() {\n",
              "    var fig = this;\n",
              "\n",
              "    var nav_element = $('<div/>');\n",
              "    nav_element.attr('style', 'width: 100%');\n",
              "    this.root.append(nav_element);\n",
              "\n",
              "    // Define a callback function for later on.\n",
              "    function toolbar_event(event) {\n",
              "        return fig.toolbar_button_onclick(event['data']);\n",
              "    }\n",
              "    function toolbar_mouse_event(event) {\n",
              "        return fig.toolbar_button_onmouseover(event['data']);\n",
              "    }\n",
              "\n",
              "    for(var toolbar_ind in mpl.toolbar_items){\n",
              "        var name = mpl.toolbar_items[toolbar_ind][0];\n",
              "        var tooltip = mpl.toolbar_items[toolbar_ind][1];\n",
              "        var image = mpl.toolbar_items[toolbar_ind][2];\n",
              "        var method_name = mpl.toolbar_items[toolbar_ind][3];\n",
              "\n",
              "        if (!name) { continue; };\n",
              "\n",
              "        var button = $('<button class=\"btn btn-default\" href=\"#\" title=\"' + name + '\"><i class=\"fa ' + image + ' fa-lg\"></i></button>');\n",
              "        button.click(method_name, toolbar_event);\n",
              "        button.mouseover(tooltip, toolbar_mouse_event);\n",
              "        nav_element.append(button);\n",
              "    }\n",
              "\n",
              "    // Add the status bar.\n",
              "    var status_bar = $('<span class=\"mpl-message\" style=\"text-align:right; float: right;\"/>');\n",
              "    nav_element.append(status_bar);\n",
              "    this.message = status_bar[0];\n",
              "\n",
              "    // Add the close button to the window.\n",
              "    var buttongrp = $('<div class=\"btn-group inline pull-right\"></div>');\n",
              "    var button = $('<button class=\"btn btn-mini btn-primary\" href=\"#\" title=\"Stop Interaction\"><i class=\"fa fa-power-off icon-remove icon-large\"></i></button>');\n",
              "    button.click(function (evt) { fig.handle_close(fig, {}); } );\n",
              "    button.mouseover('Stop Interaction', toolbar_mouse_event);\n",
              "    buttongrp.append(button);\n",
              "    var titlebar = this.root.find($('.ui-dialog-titlebar'));\n",
              "    titlebar.prepend(buttongrp);\n",
              "}\n",
              "\n",
              "mpl.figure.prototype._root_extra_style = function(el){\n",
              "    var fig = this\n",
              "    el.on(\"remove\", function(){\n",
              "\tfig.close_ws(fig, {});\n",
              "    });\n",
              "}\n",
              "\n",
              "mpl.figure.prototype._canvas_extra_style = function(el){\n",
              "    // this is important to make the div 'focusable\n",
              "    el.attr('tabindex', 0)\n",
              "    // reach out to IPython and tell the keyboard manager to turn it's self\n",
              "    // off when our div gets focus\n",
              "\n",
              "    // location in version 3\n",
              "    if (IPython.notebook.keyboard_manager) {\n",
              "        IPython.notebook.keyboard_manager.register_events(el);\n",
              "    }\n",
              "    else {\n",
              "        // location in version 2\n",
              "        IPython.keyboard_manager.register_events(el);\n",
              "    }\n",
              "\n",
              "}\n",
              "\n",
              "mpl.figure.prototype._key_event_extra = function(event, name) {\n",
              "    var manager = IPython.notebook.keyboard_manager;\n",
              "    if (!manager)\n",
              "        manager = IPython.keyboard_manager;\n",
              "\n",
              "    // Check for shift+enter\n",
              "    if (event.shiftKey && event.which == 13) {\n",
              "        this.canvas_div.blur();\n",
              "        // select the cell after this one\n",
              "        var index = IPython.notebook.find_cell_index(this.cell_info[0]);\n",
              "        IPython.notebook.select(index + 1);\n",
              "    }\n",
              "}\n",
              "\n",
              "mpl.figure.prototype.handle_save = function(fig, msg) {\n",
              "    fig.ondownload(fig, null);\n",
              "}\n",
              "\n",
              "\n",
              "mpl.find_output_cell = function(html_output) {\n",
              "    // Return the cell and output element which can be found *uniquely* in the notebook.\n",
              "    // Note - this is a bit hacky, but it is done because the \"notebook_saving.Notebook\"\n",
              "    // IPython event is triggered only after the cells have been serialised, which for\n",
              "    // our purposes (turning an active figure into a static one), is too late.\n",
              "    var cells = IPython.notebook.get_cells();\n",
              "    var ncells = cells.length;\n",
              "    for (var i=0; i<ncells; i++) {\n",
              "        var cell = cells[i];\n",
              "        if (cell.cell_type === 'code'){\n",
              "            for (var j=0; j<cell.output_area.outputs.length; j++) {\n",
              "                var data = cell.output_area.outputs[j];\n",
              "                if (data.data) {\n",
              "                    // IPython >= 3 moved mimebundle to data attribute of output\n",
              "                    data = data.data;\n",
              "                }\n",
              "                if (data['text/html'] == html_output) {\n",
              "                    return [cell, data, j];\n",
              "                }\n",
              "            }\n",
              "        }\n",
              "    }\n",
              "}\n",
              "\n",
              "// Register the function which deals with the matplotlib target/channel.\n",
              "// The kernel may be null if the page has been refreshed.\n",
              "if (IPython.notebook.kernel != null) {\n",
              "    IPython.notebook.kernel.comm_manager.register_target('matplotlib', mpl.mpl_figure_comm);\n",
              "}\n"
            ],
            "text/plain": [
              "<IPython.core.display.Javascript object>"
            ]
          },
          "metadata": {},
          "output_type": "display_data"
        },
        {
          "data": {
            "text/html": [
              "<img src=\"data:image/png;base64,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\" width=\"640\">"
            ],
            "text/plain": [
              "<IPython.core.display.HTML object>"
            ]
          },
          "metadata": {},
          "output_type": "display_data"
        },
        {
          "data": {
            "text/plain": [
              "<matplotlib.axes._subplots.AxesSubplot at 0x1fef4839a90>"
            ]
          },
          "execution_count": 3,
          "metadata": {},
          "output_type": "execute_result"
        }
      ],
      "source": [
        "# Plota gráfico do tipo Boxplot da coluna bedrooms\n",
        "# Esse gráfico é muito rico e é possível visualizar Outliers\n",
        "%matplotlib notebook\n",
        "matplotlib.style.use('ggplot')\n",
        "\n",
        "dataset.boxplot(column='bedrooms')"
      ]
    },
    {
      "cell_type": "code",
      "execution_count": null,
      "metadata": {
        "id": "u-0BYwxuVc1V",
        "outputId": "5069c44e-c5fa-448a-8e4d-c112d0c96383"
      },
      "outputs": [
        {
          "data": {
            "text/plain": [
              "['Solarize_Light2',\n",
              " '_classic_test_patch',\n",
              " 'bmh',\n",
              " 'classic',\n",
              " 'dark_background',\n",
              " 'fast',\n",
              " 'fivethirtyeight',\n",
              " 'ggplot',\n",
              " 'grayscale',\n",
              " 'seaborn',\n",
              " 'seaborn-bright',\n",
              " 'seaborn-colorblind',\n",
              " 'seaborn-dark',\n",
              " 'seaborn-dark-palette',\n",
              " 'seaborn-darkgrid',\n",
              " 'seaborn-deep',\n",
              " 'seaborn-muted',\n",
              " 'seaborn-notebook',\n",
              " 'seaborn-paper',\n",
              " 'seaborn-pastel',\n",
              " 'seaborn-poster',\n",
              " 'seaborn-talk',\n",
              " 'seaborn-ticks',\n",
              " 'seaborn-white',\n",
              " 'seaborn-whitegrid',\n",
              " 'tableau-colorblind10']"
            ]
          },
          "execution_count": 4,
          "metadata": {},
          "output_type": "execute_result"
        }
      ],
      "source": [
        "# Visualizando os estilos de layout disponível\n",
        "matplotlib.style.available"
      ]
    },
    {
      "cell_type": "code",
      "execution_count": null,
      "metadata": {
        "id": "3wHGo-rxVc1X",
        "scrolled": true,
        "outputId": "afea3207-bac9-46e7-b042-d1a07b777ee8"
      },
      "outputs": [
        {
          "data": {
            "application/javascript": [
              "/* Put everything inside the global mpl namespace */\n",
              "window.mpl = {};\n",
              "\n",
              "\n",
              "mpl.get_websocket_type = function() {\n",
              "    if (typeof(WebSocket) !== 'undefined') {\n",
              "        return WebSocket;\n",
              "    } else if (typeof(MozWebSocket) !== 'undefined') {\n",
              "        return MozWebSocket;\n",
              "    } else {\n",
              "        alert('Your browser does not have WebSocket support. ' +\n",
              "              'Please try Chrome, Safari or Firefox ≥ 6. ' +\n",
              "              'Firefox 4 and 5 are also supported but you ' +\n",
              "              'have to enable WebSockets in about:config.');\n",
              "    };\n",
              "}\n",
              "\n",
              "mpl.figure = function(figure_id, websocket, ondownload, parent_element) {\n",
              "    this.id = figure_id;\n",
              "\n",
              "    this.ws = websocket;\n",
              "\n",
              "    this.supports_binary = (this.ws.binaryType != undefined);\n",
              "\n",
              "    if (!this.supports_binary) {\n",
              "        var warnings = document.getElementById(\"mpl-warnings\");\n",
              "        if (warnings) {\n",
              "            warnings.style.display = 'block';\n",
              "            warnings.textContent = (\n",
              "                \"This browser does not support binary websocket messages. \" +\n",
              "                    \"Performance may be slow.\");\n",
              "        }\n",
              "    }\n",
              "\n",
              "    this.imageObj = new Image();\n",
              "\n",
              "    this.context = undefined;\n",
              "    this.message = undefined;\n",
              "    this.canvas = undefined;\n",
              "    this.rubberband_canvas = undefined;\n",
              "    this.rubberband_context = undefined;\n",
              "    this.format_dropdown = undefined;\n",
              "\n",
              "    this.image_mode = 'full';\n",
              "\n",
              "    this.root = $('<div/>');\n",
              "    this._root_extra_style(this.root)\n",
              "    this.root.attr('style', 'display: inline-block');\n",
              "\n",
              "    $(parent_element).append(this.root);\n",
              "\n",
              "    this._init_header(this);\n",
              "    this._init_canvas(this);\n",
              "    this._init_toolbar(this);\n",
              "\n",
              "    var fig = this;\n",
              "\n",
              "    this.waiting = false;\n",
              "\n",
              "    this.ws.onopen =  function () {\n",
              "            fig.send_message(\"supports_binary\", {value: fig.supports_binary});\n",
              "            fig.send_message(\"send_image_mode\", {});\n",
              "            if (mpl.ratio != 1) {\n",
              "                fig.send_message(\"set_dpi_ratio\", {'dpi_ratio': mpl.ratio});\n",
              "            }\n",
              "            fig.send_message(\"refresh\", {});\n",
              "        }\n",
              "\n",
              "    this.imageObj.onload = function() {\n",
              "            if (fig.image_mode == 'full') {\n",
              "                // Full images could contain transparency (where diff images\n",
              "                // almost always do), so we need to clear the canvas so that\n",
              "                // there is no ghosting.\n",
              "                fig.context.clearRect(0, 0, fig.canvas.width, fig.canvas.height);\n",
              "            }\n",
              "            fig.context.drawImage(fig.imageObj, 0, 0);\n",
              "        };\n",
              "\n",
              "    this.imageObj.onunload = function() {\n",
              "        fig.ws.close();\n",
              "    }\n",
              "\n",
              "    this.ws.onmessage = this._make_on_message_function(this);\n",
              "\n",
              "    this.ondownload = ondownload;\n",
              "}\n",
              "\n",
              "mpl.figure.prototype._init_header = function() {\n",
              "    var titlebar = $(\n",
              "        '<div class=\"ui-dialog-titlebar ui-widget-header ui-corner-all ' +\n",
              "        'ui-helper-clearfix\"/>');\n",
              "    var titletext = $(\n",
              "        '<div class=\"ui-dialog-title\" style=\"width: 100%; ' +\n",
              "        'text-align: center; padding: 3px;\"/>');\n",
              "    titlebar.append(titletext)\n",
              "    this.root.append(titlebar);\n",
              "    this.header = titletext[0];\n",
              "}\n",
              "\n",
              "\n",
              "\n",
              "mpl.figure.prototype._canvas_extra_style = function(canvas_div) {\n",
              "\n",
              "}\n",
              "\n",
              "\n",
              "mpl.figure.prototype._root_extra_style = function(canvas_div) {\n",
              "\n",
              "}\n",
              "\n",
              "mpl.figure.prototype._init_canvas = function() {\n",
              "    var fig = this;\n",
              "\n",
              "    var canvas_div = $('<div/>');\n",
              "\n",
              "    canvas_div.attr('style', 'position: relative; clear: both; outline: 0');\n",
              "\n",
              "    function canvas_keyboard_event(event) {\n",
              "        return fig.key_event(event, event['data']);\n",
              "    }\n",
              "\n",
              "    canvas_div.keydown('key_press', canvas_keyboard_event);\n",
              "    canvas_div.keyup('key_release', canvas_keyboard_event);\n",
              "    this.canvas_div = canvas_div\n",
              "    this._canvas_extra_style(canvas_div)\n",
              "    this.root.append(canvas_div);\n",
              "\n",
              "    var canvas = $('<canvas/>');\n",
              "    canvas.addClass('mpl-canvas');\n",
              "    canvas.attr('style', \"left: 0; top: 0; z-index: 0; outline: 0\")\n",
              "\n",
              "    this.canvas = canvas[0];\n",
              "    this.context = canvas[0].getContext(\"2d\");\n",
              "\n",
              "    var backingStore = this.context.backingStorePixelRatio ||\n",
              "\tthis.context.webkitBackingStorePixelRatio ||\n",
              "\tthis.context.mozBackingStorePixelRatio ||\n",
              "\tthis.context.msBackingStorePixelRatio ||\n",
              "\tthis.context.oBackingStorePixelRatio ||\n",
              "\tthis.context.backingStorePixelRatio || 1;\n",
              "\n",
              "    mpl.ratio = (window.devicePixelRatio || 1) / backingStore;\n",
              "\n",
              "    var rubberband = $('<canvas/>');\n",
              "    rubberband.attr('style', \"position: absolute; left: 0; top: 0; z-index: 1;\")\n",
              "\n",
              "    var pass_mouse_events = true;\n",
              "\n",
              "    canvas_div.resizable({\n",
              "        start: function(event, ui) {\n",
              "            pass_mouse_events = false;\n",
              "        },\n",
              "        resize: function(event, ui) {\n",
              "            fig.request_resize(ui.size.width, ui.size.height);\n",
              "        },\n",
              "        stop: function(event, ui) {\n",
              "            pass_mouse_events = true;\n",
              "            fig.request_resize(ui.size.width, ui.size.height);\n",
              "        },\n",
              "    });\n",
              "\n",
              "    function mouse_event_fn(event) {\n",
              "        if (pass_mouse_events)\n",
              "            return fig.mouse_event(event, event['data']);\n",
              "    }\n",
              "\n",
              "    rubberband.mousedown('button_press', mouse_event_fn);\n",
              "    rubberband.mouseup('button_release', mouse_event_fn);\n",
              "    // Throttle sequential mouse events to 1 every 20ms.\n",
              "    rubberband.mousemove('motion_notify', mouse_event_fn);\n",
              "\n",
              "    rubberband.mouseenter('figure_enter', mouse_event_fn);\n",
              "    rubberband.mouseleave('figure_leave', mouse_event_fn);\n",
              "\n",
              "    canvas_div.on(\"wheel\", function (event) {\n",
              "        event = event.originalEvent;\n",
              "        event['data'] = 'scroll'\n",
              "        if (event.deltaY < 0) {\n",
              "            event.step = 1;\n",
              "        } else {\n",
              "            event.step = -1;\n",
              "        }\n",
              "        mouse_event_fn(event);\n",
              "    });\n",
              "\n",
              "    canvas_div.append(canvas);\n",
              "    canvas_div.append(rubberband);\n",
              "\n",
              "    this.rubberband = rubberband;\n",
              "    this.rubberband_canvas = rubberband[0];\n",
              "    this.rubberband_context = rubberband[0].getContext(\"2d\");\n",
              "    this.rubberband_context.strokeStyle = \"#000000\";\n",
              "\n",
              "    this._resize_canvas = function(width, height) {\n",
              "        // Keep the size of the canvas, canvas container, and rubber band\n",
              "        // canvas in synch.\n",
              "        canvas_div.css('width', width)\n",
              "        canvas_div.css('height', height)\n",
              "\n",
              "        canvas.attr('width', width * mpl.ratio);\n",
              "        canvas.attr('height', height * mpl.ratio);\n",
              "        canvas.attr('style', 'width: ' + width + 'px; height: ' + height + 'px;');\n",
              "\n",
              "        rubberband.attr('width', width);\n",
              "        rubberband.attr('height', height);\n",
              "    }\n",
              "\n",
              "    // Set the figure to an initial 600x600px, this will subsequently be updated\n",
              "    // upon first draw.\n",
              "    this._resize_canvas(600, 600);\n",
              "\n",
              "    // Disable right mouse context menu.\n",
              "    $(this.rubberband_canvas).bind(\"contextmenu\",function(e){\n",
              "        return false;\n",
              "    });\n",
              "\n",
              "    function set_focus () {\n",
              "        canvas.focus();\n",
              "        canvas_div.focus();\n",
              "    }\n",
              "\n",
              "    window.setTimeout(set_focus, 100);\n",
              "}\n",
              "\n",
              "mpl.figure.prototype._init_toolbar = function() {\n",
              "    var fig = this;\n",
              "\n",
              "    var nav_element = $('<div/>');\n",
              "    nav_element.attr('style', 'width: 100%');\n",
              "    this.root.append(nav_element);\n",
              "\n",
              "    // Define a callback function for later on.\n",
              "    function toolbar_event(event) {\n",
              "        return fig.toolbar_button_onclick(event['data']);\n",
              "    }\n",
              "    function toolbar_mouse_event(event) {\n",
              "        return fig.toolbar_button_onmouseover(event['data']);\n",
              "    }\n",
              "\n",
              "    for(var toolbar_ind in mpl.toolbar_items) {\n",
              "        var name = mpl.toolbar_items[toolbar_ind][0];\n",
              "        var tooltip = mpl.toolbar_items[toolbar_ind][1];\n",
              "        var image = mpl.toolbar_items[toolbar_ind][2];\n",
              "        var method_name = mpl.toolbar_items[toolbar_ind][3];\n",
              "\n",
              "        if (!name) {\n",
              "            // put a spacer in here.\n",
              "            continue;\n",
              "        }\n",
              "        var button = $('<button/>');\n",
              "        button.addClass('ui-button ui-widget ui-state-default ui-corner-all ' +\n",
              "                        'ui-button-icon-only');\n",
              "        button.attr('role', 'button');\n",
              "        button.attr('aria-disabled', 'false');\n",
              "        button.click(method_name, toolbar_event);\n",
              "        button.mouseover(tooltip, toolbar_mouse_event);\n",
              "\n",
              "        var icon_img = $('<span/>');\n",
              "        icon_img.addClass('ui-button-icon-primary ui-icon');\n",
              "        icon_img.addClass(image);\n",
              "        icon_img.addClass('ui-corner-all');\n",
              "\n",
              "        var tooltip_span = $('<span/>');\n",
              "        tooltip_span.addClass('ui-button-text');\n",
              "        tooltip_span.html(tooltip);\n",
              "\n",
              "        button.append(icon_img);\n",
              "        button.append(tooltip_span);\n",
              "\n",
              "        nav_element.append(button);\n",
              "    }\n",
              "\n",
              "    var fmt_picker_span = $('<span/>');\n",
              "\n",
              "    var fmt_picker = $('<select/>');\n",
              "    fmt_picker.addClass('mpl-toolbar-option ui-widget ui-widget-content');\n",
              "    fmt_picker_span.append(fmt_picker);\n",
              "    nav_element.append(fmt_picker_span);\n",
              "    this.format_dropdown = fmt_picker[0];\n",
              "\n",
              "    for (var ind in mpl.extensions) {\n",
              "        var fmt = mpl.extensions[ind];\n",
              "        var option = $(\n",
              "            '<option/>', {selected: fmt === mpl.default_extension}).html(fmt);\n",
              "        fmt_picker.append(option);\n",
              "    }\n",
              "\n",
              "    // Add hover states to the ui-buttons\n",
              "    $( \".ui-button\" ).hover(\n",
              "        function() { $(this).addClass(\"ui-state-hover\");},\n",
              "        function() { $(this).removeClass(\"ui-state-hover\");}\n",
              "    );\n",
              "\n",
              "    var status_bar = $('<span class=\"mpl-message\"/>');\n",
              "    nav_element.append(status_bar);\n",
              "    this.message = status_bar[0];\n",
              "}\n",
              "\n",
              "mpl.figure.prototype.request_resize = function(x_pixels, y_pixels) {\n",
              "    // Request matplotlib to resize the figure. Matplotlib will then trigger a resize in the client,\n",
              "    // which will in turn request a refresh of the image.\n",
              "    this.send_message('resize', {'width': x_pixels, 'height': y_pixels});\n",
              "}\n",
              "\n",
              "mpl.figure.prototype.send_message = function(type, properties) {\n",
              "    properties['type'] = type;\n",
              "    properties['figure_id'] = this.id;\n",
              "    this.ws.send(JSON.stringify(properties));\n",
              "}\n",
              "\n",
              "mpl.figure.prototype.send_draw_message = function() {\n",
              "    if (!this.waiting) {\n",
              "        this.waiting = true;\n",
              "        this.ws.send(JSON.stringify({type: \"draw\", figure_id: this.id}));\n",
              "    }\n",
              "}\n",
              "\n",
              "\n",
              "mpl.figure.prototype.handle_save = function(fig, msg) {\n",
              "    var format_dropdown = fig.format_dropdown;\n",
              "    var format = format_dropdown.options[format_dropdown.selectedIndex].value;\n",
              "    fig.ondownload(fig, format);\n",
              "}\n",
              "\n",
              "\n",
              "mpl.figure.prototype.handle_resize = function(fig, msg) {\n",
              "    var size = msg['size'];\n",
              "    if (size[0] != fig.canvas.width || size[1] != fig.canvas.height) {\n",
              "        fig._resize_canvas(size[0], size[1]);\n",
              "        fig.send_message(\"refresh\", {});\n",
              "    };\n",
              "}\n",
              "\n",
              "mpl.figure.prototype.handle_rubberband = function(fig, msg) {\n",
              "    var x0 = msg['x0'] / mpl.ratio;\n",
              "    var y0 = (fig.canvas.height - msg['y0']) / mpl.ratio;\n",
              "    var x1 = msg['x1'] / mpl.ratio;\n",
              "    var y1 = (fig.canvas.height - msg['y1']) / mpl.ratio;\n",
              "    x0 = Math.floor(x0) + 0.5;\n",
              "    y0 = Math.floor(y0) + 0.5;\n",
              "    x1 = Math.floor(x1) + 0.5;\n",
              "    y1 = Math.floor(y1) + 0.5;\n",
              "    var min_x = Math.min(x0, x1);\n",
              "    var min_y = Math.min(y0, y1);\n",
              "    var width = Math.abs(x1 - x0);\n",
              "    var height = Math.abs(y1 - y0);\n",
              "\n",
              "    fig.rubberband_context.clearRect(\n",
              "        0, 0, fig.canvas.width / mpl.ratio, fig.canvas.height / mpl.ratio);\n",
              "\n",
              "    fig.rubberband_context.strokeRect(min_x, min_y, width, height);\n",
              "}\n",
              "\n",
              "mpl.figure.prototype.handle_figure_label = function(fig, msg) {\n",
              "    // Updates the figure title.\n",
              "    fig.header.textContent = msg['label'];\n",
              "}\n",
              "\n",
              "mpl.figure.prototype.handle_cursor = function(fig, msg) {\n",
              "    var cursor = msg['cursor'];\n",
              "    switch(cursor)\n",
              "    {\n",
              "    case 0:\n",
              "        cursor = 'pointer';\n",
              "        break;\n",
              "    case 1:\n",
              "        cursor = 'default';\n",
              "        break;\n",
              "    case 2:\n",
              "        cursor = 'crosshair';\n",
              "        break;\n",
              "    case 3:\n",
              "        cursor = 'move';\n",
              "        break;\n",
              "    }\n",
              "    fig.rubberband_canvas.style.cursor = cursor;\n",
              "}\n",
              "\n",
              "mpl.figure.prototype.handle_message = function(fig, msg) {\n",
              "    fig.message.textContent = msg['message'];\n",
              "}\n",
              "\n",
              "mpl.figure.prototype.handle_draw = function(fig, msg) {\n",
              "    // Request the server to send over a new figure.\n",
              "    fig.send_draw_message();\n",
              "}\n",
              "\n",
              "mpl.figure.prototype.handle_image_mode = function(fig, msg) {\n",
              "    fig.image_mode = msg['mode'];\n",
              "}\n",
              "\n",
              "mpl.figure.prototype.updated_canvas_event = function() {\n",
              "    // Called whenever the canvas gets updated.\n",
              "    this.send_message(\"ack\", {});\n",
              "}\n",
              "\n",
              "// A function to construct a web socket function for onmessage handling.\n",
              "// Called in the figure constructor.\n",
              "mpl.figure.prototype._make_on_message_function = function(fig) {\n",
              "    return function socket_on_message(evt) {\n",
              "        if (evt.data instanceof Blob) {\n",
              "            /* FIXME: We get \"Resource interpreted as Image but\n",
              "             * transferred with MIME type text/plain:\" errors on\n",
              "             * Chrome.  But how to set the MIME type?  It doesn't seem\n",
              "             * to be part of the websocket stream */\n",
              "            evt.data.type = \"image/png\";\n",
              "\n",
              "            /* Free the memory for the previous frames */\n",
              "            if (fig.imageObj.src) {\n",
              "                (window.URL || window.webkitURL).revokeObjectURL(\n",
              "                    fig.imageObj.src);\n",
              "            }\n",
              "\n",
              "            fig.imageObj.src = (window.URL || window.webkitURL).createObjectURL(\n",
              "                evt.data);\n",
              "            fig.updated_canvas_event();\n",
              "            fig.waiting = false;\n",
              "            return;\n",
              "        }\n",
              "        else if (typeof evt.data === 'string' && evt.data.slice(0, 21) == \"data:image/png;base64\") {\n",
              "            fig.imageObj.src = evt.data;\n",
              "            fig.updated_canvas_event();\n",
              "            fig.waiting = false;\n",
              "            return;\n",
              "        }\n",
              "\n",
              "        var msg = JSON.parse(evt.data);\n",
              "        var msg_type = msg['type'];\n",
              "\n",
              "        // Call the  \"handle_{type}\" callback, which takes\n",
              "        // the figure and JSON message as its only arguments.\n",
              "        try {\n",
              "            var callback = fig[\"handle_\" + msg_type];\n",
              "        } catch (e) {\n",
              "            console.log(\"No handler for the '\" + msg_type + \"' message type: \", msg);\n",
              "            return;\n",
              "        }\n",
              "\n",
              "        if (callback) {\n",
              "            try {\n",
              "                // console.log(\"Handling '\" + msg_type + \"' message: \", msg);\n",
              "                callback(fig, msg);\n",
              "            } catch (e) {\n",
              "                console.log(\"Exception inside the 'handler_\" + msg_type + \"' callback:\", e, e.stack, msg);\n",
              "            }\n",
              "        }\n",
              "    };\n",
              "}\n",
              "\n",
              "// from http://stackoverflow.com/questions/1114465/getting-mouse-location-in-canvas\n",
              "mpl.findpos = function(e) {\n",
              "    //this section is from http://www.quirksmode.org/js/events_properties.html\n",
              "    var targ;\n",
              "    if (!e)\n",
              "        e = window.event;\n",
              "    if (e.target)\n",
              "        targ = e.target;\n",
              "    else if (e.srcElement)\n",
              "        targ = e.srcElement;\n",
              "    if (targ.nodeType == 3) // defeat Safari bug\n",
              "        targ = targ.parentNode;\n",
              "\n",
              "    // jQuery normalizes the pageX and pageY\n",
              "    // pageX,Y are the mouse positions relative to the document\n",
              "    // offset() returns the position of the element relative to the document\n",
              "    var x = e.pageX - $(targ).offset().left;\n",
              "    var y = e.pageY - $(targ).offset().top;\n",
              "\n",
              "    return {\"x\": x, \"y\": y};\n",
              "};\n",
              "\n",
              "/*\n",
              " * return a copy of an object with only non-object keys\n",
              " * we need this to avoid circular references\n",
              " * http://stackoverflow.com/a/24161582/3208463\n",
              " */\n",
              "function simpleKeys (original) {\n",
              "  return Object.keys(original).reduce(function (obj, key) {\n",
              "    if (typeof original[key] !== 'object')\n",
              "        obj[key] = original[key]\n",
              "    return obj;\n",
              "  }, {});\n",
              "}\n",
              "\n",
              "mpl.figure.prototype.mouse_event = function(event, name) {\n",
              "    var canvas_pos = mpl.findpos(event)\n",
              "\n",
              "    if (name === 'button_press')\n",
              "    {\n",
              "        this.canvas.focus();\n",
              "        this.canvas_div.focus();\n",
              "    }\n",
              "\n",
              "    var x = canvas_pos.x * mpl.ratio;\n",
              "    var y = canvas_pos.y * mpl.ratio;\n",
              "\n",
              "    this.send_message(name, {x: x, y: y, button: event.button,\n",
              "                             step: event.step,\n",
              "                             guiEvent: simpleKeys(event)});\n",
              "\n",
              "    /* This prevents the web browser from automatically changing to\n",
              "     * the text insertion cursor when the button is pressed.  We want\n",
              "     * to control all of the cursor setting manually through the\n",
              "     * 'cursor' event from matplotlib */\n",
              "    event.preventDefault();\n",
              "    return false;\n",
              "}\n",
              "\n",
              "mpl.figure.prototype._key_event_extra = function(event, name) {\n",
              "    // Handle any extra behaviour associated with a key event\n",
              "}\n",
              "\n",
              "mpl.figure.prototype.key_event = function(event, name) {\n",
              "\n",
              "    // Prevent repeat events\n",
              "    if (name == 'key_press')\n",
              "    {\n",
              "        if (event.which === this._key)\n",
              "            return;\n",
              "        else\n",
              "            this._key = event.which;\n",
              "    }\n",
              "    if (name == 'key_release')\n",
              "        this._key = null;\n",
              "\n",
              "    var value = '';\n",
              "    if (event.ctrlKey && event.which != 17)\n",
              "        value += \"ctrl+\";\n",
              "    if (event.altKey && event.which != 18)\n",
              "        value += \"alt+\";\n",
              "    if (event.shiftKey && event.which != 16)\n",
              "        value += \"shift+\";\n",
              "\n",
              "    value += 'k';\n",
              "    value += event.which.toString();\n",
              "\n",
              "    this._key_event_extra(event, name);\n",
              "\n",
              "    this.send_message(name, {key: value,\n",
              "                             guiEvent: simpleKeys(event)});\n",
              "    return false;\n",
              "}\n",
              "\n",
              "mpl.figure.prototype.toolbar_button_onclick = function(name) {\n",
              "    if (name == 'download') {\n",
              "        this.handle_save(this, null);\n",
              "    } else {\n",
              "        this.send_message(\"toolbar_button\", {name: name});\n",
              "    }\n",
              "};\n",
              "\n",
              "mpl.figure.prototype.toolbar_button_onmouseover = function(tooltip) {\n",
              "    this.message.textContent = tooltip;\n",
              "};\n",
              "mpl.toolbar_items = [[\"Home\", \"Reset original view\", \"fa fa-home icon-home\", \"home\"], [\"Back\", \"Back to previous view\", \"fa fa-arrow-left icon-arrow-left\", \"back\"], [\"Forward\", \"Forward to next view\", \"fa fa-arrow-right icon-arrow-right\", \"forward\"], [\"\", \"\", \"\", \"\"], [\"Pan\", \"Pan axes with left mouse, zoom with right\", \"fa fa-arrows icon-move\", \"pan\"], [\"Zoom\", \"Zoom to rectangle\", \"fa fa-square-o icon-check-empty\", \"zoom\"], [\"\", \"\", \"\", \"\"], [\"Download\", \"Download plot\", \"fa fa-floppy-o icon-save\", \"download\"]];\n",
              "\n",
              "mpl.extensions = [\"eps\", \"jpeg\", \"pdf\", \"png\", \"ps\", \"raw\", \"svg\", \"tif\"];\n",
              "\n",
              "mpl.default_extension = \"png\";var comm_websocket_adapter = function(comm) {\n",
              "    // Create a \"websocket\"-like object which calls the given IPython comm\n",
              "    // object with the appropriate methods. Currently this is a non binary\n",
              "    // socket, so there is still some room for performance tuning.\n",
              "    var ws = {};\n",
              "\n",
              "    ws.close = function() {\n",
              "        comm.close()\n",
              "    };\n",
              "    ws.send = function(m) {\n",
              "        //console.log('sending', m);\n",
              "        comm.send(m);\n",
              "    };\n",
              "    // Register the callback with on_msg.\n",
              "    comm.on_msg(function(msg) {\n",
              "        //console.log('receiving', msg['content']['data'], msg);\n",
              "        // Pass the mpl event to the overridden (by mpl) onmessage function.\n",
              "        ws.onmessage(msg['content']['data'])\n",
              "    });\n",
              "    return ws;\n",
              "}\n",
              "\n",
              "mpl.mpl_figure_comm = function(comm, msg) {\n",
              "    // This is the function which gets called when the mpl process\n",
              "    // starts-up an IPython Comm through the \"matplotlib\" channel.\n",
              "\n",
              "    var id = msg.content.data.id;\n",
              "    // Get hold of the div created by the display call when the Comm\n",
              "    // socket was opened in Python.\n",
              "    var element = $(\"#\" + id);\n",
              "    var ws_proxy = comm_websocket_adapter(comm)\n",
              "\n",
              "    function ondownload(figure, format) {\n",
              "        window.open(figure.imageObj.src);\n",
              "    }\n",
              "\n",
              "    var fig = new mpl.figure(id, ws_proxy,\n",
              "                           ondownload,\n",
              "                           element.get(0));\n",
              "\n",
              "    // Call onopen now - mpl needs it, as it is assuming we've passed it a real\n",
              "    // web socket which is closed, not our websocket->open comm proxy.\n",
              "    ws_proxy.onopen();\n",
              "\n",
              "    fig.parent_element = element.get(0);\n",
              "    fig.cell_info = mpl.find_output_cell(\"<div id='\" + id + \"'></div>\");\n",
              "    if (!fig.cell_info) {\n",
              "        console.error(\"Failed to find cell for figure\", id, fig);\n",
              "        return;\n",
              "    }\n",
              "\n",
              "    var output_index = fig.cell_info[2]\n",
              "    var cell = fig.cell_info[0];\n",
              "\n",
              "};\n",
              "\n",
              "mpl.figure.prototype.handle_close = function(fig, msg) {\n",
              "    var width = fig.canvas.width/mpl.ratio\n",
              "    fig.root.unbind('remove')\n",
              "\n",
              "    // Update the output cell to use the data from the current canvas.\n",
              "    fig.push_to_output();\n",
              "    var dataURL = fig.canvas.toDataURL();\n",
              "    // Re-enable the keyboard manager in IPython - without this line, in FF,\n",
              "    // the notebook keyboard shortcuts fail.\n",
              "    IPython.keyboard_manager.enable()\n",
              "    $(fig.parent_element).html('<img src=\"' + dataURL + '\" width=\"' + width + '\">');\n",
              "    fig.close_ws(fig, msg);\n",
              "}\n",
              "\n",
              "mpl.figure.prototype.close_ws = function(fig, msg){\n",
              "    fig.send_message('closing', msg);\n",
              "    // fig.ws.close()\n",
              "}\n",
              "\n",
              "mpl.figure.prototype.push_to_output = function(remove_interactive) {\n",
              "    // Turn the data on the canvas into data in the output cell.\n",
              "    var width = this.canvas.width/mpl.ratio\n",
              "    var dataURL = this.canvas.toDataURL();\n",
              "    this.cell_info[1]['text/html'] = '<img src=\"' + dataURL + '\" width=\"' + width + '\">';\n",
              "}\n",
              "\n",
              "mpl.figure.prototype.updated_canvas_event = function() {\n",
              "    // Tell IPython that the notebook contents must change.\n",
              "    IPython.notebook.set_dirty(true);\n",
              "    this.send_message(\"ack\", {});\n",
              "    var fig = this;\n",
              "    // Wait a second, then push the new image to the DOM so\n",
              "    // that it is saved nicely (might be nice to debounce this).\n",
              "    setTimeout(function () { fig.push_to_output() }, 1000);\n",
              "}\n",
              "\n",
              "mpl.figure.prototype._init_toolbar = function() {\n",
              "    var fig = this;\n",
              "\n",
              "    var nav_element = $('<div/>');\n",
              "    nav_element.attr('style', 'width: 100%');\n",
              "    this.root.append(nav_element);\n",
              "\n",
              "    // Define a callback function for later on.\n",
              "    function toolbar_event(event) {\n",
              "        return fig.toolbar_button_onclick(event['data']);\n",
              "    }\n",
              "    function toolbar_mouse_event(event) {\n",
              "        return fig.toolbar_button_onmouseover(event['data']);\n",
              "    }\n",
              "\n",
              "    for(var toolbar_ind in mpl.toolbar_items){\n",
              "        var name = mpl.toolbar_items[toolbar_ind][0];\n",
              "        var tooltip = mpl.toolbar_items[toolbar_ind][1];\n",
              "        var image = mpl.toolbar_items[toolbar_ind][2];\n",
              "        var method_name = mpl.toolbar_items[toolbar_ind][3];\n",
              "\n",
              "        if (!name) { continue; };\n",
              "\n",
              "        var button = $('<button class=\"btn btn-default\" href=\"#\" title=\"' + name + '\"><i class=\"fa ' + image + ' fa-lg\"></i></button>');\n",
              "        button.click(method_name, toolbar_event);\n",
              "        button.mouseover(tooltip, toolbar_mouse_event);\n",
              "        nav_element.append(button);\n",
              "    }\n",
              "\n",
              "    // Add the status bar.\n",
              "    var status_bar = $('<span class=\"mpl-message\" style=\"text-align:right; float: right;\"/>');\n",
              "    nav_element.append(status_bar);\n",
              "    this.message = status_bar[0];\n",
              "\n",
              "    // Add the close button to the window.\n",
              "    var buttongrp = $('<div class=\"btn-group inline pull-right\"></div>');\n",
              "    var button = $('<button class=\"btn btn-mini btn-primary\" href=\"#\" title=\"Stop Interaction\"><i class=\"fa fa-power-off icon-remove icon-large\"></i></button>');\n",
              "    button.click(function (evt) { fig.handle_close(fig, {}); } );\n",
              "    button.mouseover('Stop Interaction', toolbar_mouse_event);\n",
              "    buttongrp.append(button);\n",
              "    var titlebar = this.root.find($('.ui-dialog-titlebar'));\n",
              "    titlebar.prepend(buttongrp);\n",
              "}\n",
              "\n",
              "mpl.figure.prototype._root_extra_style = function(el){\n",
              "    var fig = this\n",
              "    el.on(\"remove\", function(){\n",
              "\tfig.close_ws(fig, {});\n",
              "    });\n",
              "}\n",
              "\n",
              "mpl.figure.prototype._canvas_extra_style = function(el){\n",
              "    // this is important to make the div 'focusable\n",
              "    el.attr('tabindex', 0)\n",
              "    // reach out to IPython and tell the keyboard manager to turn it's self\n",
              "    // off when our div gets focus\n",
              "\n",
              "    // location in version 3\n",
              "    if (IPython.notebook.keyboard_manager) {\n",
              "        IPython.notebook.keyboard_manager.register_events(el);\n",
              "    }\n",
              "    else {\n",
              "        // location in version 2\n",
              "        IPython.keyboard_manager.register_events(el);\n",
              "    }\n",
              "\n",
              "}\n",
              "\n",
              "mpl.figure.prototype._key_event_extra = function(event, name) {\n",
              "    var manager = IPython.notebook.keyboard_manager;\n",
              "    if (!manager)\n",
              "        manager = IPython.keyboard_manager;\n",
              "\n",
              "    // Check for shift+enter\n",
              "    if (event.shiftKey && event.which == 13) {\n",
              "        this.canvas_div.blur();\n",
              "        // select the cell after this one\n",
              "        var index = IPython.notebook.find_cell_index(this.cell_info[0]);\n",
              "        IPython.notebook.select(index + 1);\n",
              "    }\n",
              "}\n",
              "\n",
              "mpl.figure.prototype.handle_save = function(fig, msg) {\n",
              "    fig.ondownload(fig, null);\n",
              "}\n",
              "\n",
              "\n",
              "mpl.find_output_cell = function(html_output) {\n",
              "    // Return the cell and output element which can be found *uniquely* in the notebook.\n",
              "    // Note - this is a bit hacky, but it is done because the \"notebook_saving.Notebook\"\n",
              "    // IPython event is triggered only after the cells have been serialised, which for\n",
              "    // our purposes (turning an active figure into a static one), is too late.\n",
              "    var cells = IPython.notebook.get_cells();\n",
              "    var ncells = cells.length;\n",
              "    for (var i=0; i<ncells; i++) {\n",
              "        var cell = cells[i];\n",
              "        if (cell.cell_type === 'code'){\n",
              "            for (var j=0; j<cell.output_area.outputs.length; j++) {\n",
              "                var data = cell.output_area.outputs[j];\n",
              "                if (data.data) {\n",
              "                    // IPython >= 3 moved mimebundle to data attribute of output\n",
              "                    data = data.data;\n",
              "                }\n",
              "                if (data['text/html'] == html_output) {\n",
              "                    return [cell, data, j];\n",
              "                }\n",
              "            }\n",
              "        }\n",
              "    }\n",
              "}\n",
              "\n",
              "// Register the function which deals with the matplotlib target/channel.\n",
              "// The kernel may be null if the page has been refreshed.\n",
              "if (IPython.notebook.kernel != null) {\n",
              "    IPython.notebook.kernel.comm_manager.register_target('matplotlib', mpl.mpl_figure_comm);\n",
              "}\n"
            ],
            "text/plain": [
              "<IPython.core.display.Javascript object>"
            ]
          },
          "metadata": {},
          "output_type": "display_data"
        },
        {
          "data": {
            "text/html": [
              "<img src=\"data:image/png;base64,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\" width=\"640\">"
            ],
            "text/plain": [
              "<IPython.core.display.HTML object>"
            ]
          },
          "metadata": {},
          "output_type": "display_data"
        },
        {
          "data": {
            "text/plain": [
              "<matplotlib.axes._subplots.AxesSubplot at 0x1fef5400850>"
            ]
          },
          "execution_count": 5,
          "metadata": {},
          "output_type": "execute_result"
        }
      ],
      "source": [
        "# Plota boxplot da coluna 'price' por número de quartos\n",
        "%matplotlib notebook\n",
        "dataset.boxplot(column='price', by='bedrooms')"
      ]
    },
    {
      "cell_type": "markdown",
      "metadata": {
        "id": "9OYwqmYeVc1Z"
      },
      "source": [
        "**Correlação **"
      ]
    },
    {
      "cell_type": "code",
      "execution_count": null,
      "metadata": {
        "id": "Urj53B_FVc1Z",
        "outputId": "37a7e08c-e15f-48bf-e23f-e05b564ea607"
      },
      "outputs": [
        {
          "data": {
            "text/html": [
              "<div>\n",
              "<style scoped>\n",
              "    .dataframe tbody tr th:only-of-type {\n",
              "        vertical-align: middle;\n",
              "    }\n",
              "\n",
              "    .dataframe tbody tr th {\n",
              "        vertical-align: top;\n",
              "    }\n",
              "\n",
              "    .dataframe thead th {\n",
              "        text-align: right;\n",
              "    }\n",
              "</style>\n",
              "<table border=\"1\" class=\"dataframe\">\n",
              "  <thead>\n",
              "    <tr style=\"text-align: right;\">\n",
              "      <th></th>\n",
              "      <th>id</th>\n",
              "      <th>price</th>\n",
              "      <th>bedrooms</th>\n",
              "      <th>bathrooms</th>\n",
              "      <th>sqft_living</th>\n",
              "      <th>sqft_lot</th>\n",
              "      <th>floors</th>\n",
              "      <th>waterfront</th>\n",
              "      <th>view</th>\n",
              "      <th>condition</th>\n",
              "      <th>grade</th>\n",
              "      <th>sqft_above</th>\n",
              "      <th>sqft_basement</th>\n",
              "      <th>yr_built</th>\n",
              "      <th>yr_renovated</th>\n",
              "      <th>zipcode</th>\n",
              "      <th>lat</th>\n",
              "      <th>long</th>\n",
              "      <th>sqft_living15</th>\n",
              "      <th>sqft_lot15</th>\n",
              "    </tr>\n",
              "  </thead>\n",
              "  <tbody>\n",
              "    <tr>\n",
              "      <th>id</th>\n",
              "      <td>1.000000</td>\n",
              "      <td>-0.016762</td>\n",
              "      <td>0.001235</td>\n",
              "      <td>0.005160</td>\n",
              "      <td>-0.012258</td>\n",
              "      <td>-0.132109</td>\n",
              "      <td>0.018595</td>\n",
              "      <td>-0.002721</td>\n",
              "      <td>0.011592</td>\n",
              "      <td>-0.023783</td>\n",
              "      <td>0.008130</td>\n",
              "      <td>-0.010842</td>\n",
              "      <td>-0.005151</td>\n",
              "      <td>0.021380</td>\n",
              "      <td>-0.016907</td>\n",
              "      <td>-0.008224</td>\n",
              "      <td>-0.001891</td>\n",
              "      <td>0.020799</td>\n",
              "      <td>-0.002901</td>\n",
              "      <td>-0.138798</td>\n",
              "    </tr>\n",
              "    <tr>\n",
              "      <th>price</th>\n",
              "      <td>-0.016762</td>\n",
              "      <td>1.000000</td>\n",
              "      <td>0.308321</td>\n",
              "      <td>0.525138</td>\n",
              "      <td>0.702035</td>\n",
              "      <td>0.089661</td>\n",
              "      <td>0.256791</td>\n",
              "      <td>0.266369</td>\n",
              "      <td>0.397293</td>\n",
              "      <td>0.036362</td>\n",
              "      <td>0.667434</td>\n",
              "      <td>0.605567</td>\n",
              "      <td>0.323816</td>\n",
              "      <td>0.054012</td>\n",
              "      <td>0.126434</td>\n",
              "      <td>-0.053203</td>\n",
              "      <td>0.307003</td>\n",
              "      <td>0.021626</td>\n",
              "      <td>0.585379</td>\n",
              "      <td>0.082447</td>\n",
              "    </tr>\n",
              "    <tr>\n",
              "      <th>bedrooms</th>\n",
              "      <td>0.001235</td>\n",
              "      <td>0.308321</td>\n",
              "      <td>1.000000</td>\n",
              "      <td>0.515929</td>\n",
              "      <td>0.576679</td>\n",
              "      <td>0.031684</td>\n",
              "      <td>0.175440</td>\n",
              "      <td>-0.006589</td>\n",
              "      <td>0.079515</td>\n",
              "      <td>0.028534</td>\n",
              "      <td>0.356972</td>\n",
              "      <td>0.477618</td>\n",
              "      <td>0.303078</td>\n",
              "      <td>0.154197</td>\n",
              "      <td>0.018827</td>\n",
              "      <td>-0.152706</td>\n",
              "      <td>-0.008963</td>\n",
              "      <td>0.129498</td>\n",
              "      <td>0.391670</td>\n",
              "      <td>0.029221</td>\n",
              "    </tr>\n",
              "    <tr>\n",
              "      <th>bathrooms</th>\n",
              "      <td>0.005160</td>\n",
              "      <td>0.525138</td>\n",
              "      <td>0.515929</td>\n",
              "      <td>1.000000</td>\n",
              "      <td>0.754665</td>\n",
              "      <td>0.087740</td>\n",
              "      <td>0.500626</td>\n",
              "      <td>0.063744</td>\n",
              "      <td>0.187737</td>\n",
              "      <td>-0.124982</td>\n",
              "      <td>0.664983</td>\n",
              "      <td>0.685342</td>\n",
              "      <td>0.283770</td>\n",
              "      <td>0.506019</td>\n",
              "      <td>0.050739</td>\n",
              "      <td>-0.203866</td>\n",
              "      <td>0.024573</td>\n",
              "      <td>0.223042</td>\n",
              "      <td>0.568634</td>\n",
              "      <td>0.087175</td>\n",
              "    </tr>\n",
              "    <tr>\n",
              "      <th>sqft_living</th>\n",
              "      <td>-0.012258</td>\n",
              "      <td>0.702035</td>\n",
              "      <td>0.576679</td>\n",
              "      <td>0.754665</td>\n",
              "      <td>1.000000</td>\n",
              "      <td>0.172826</td>\n",
              "      <td>0.353922</td>\n",
              "      <td>0.103818</td>\n",
              "      <td>0.284611</td>\n",
              "      <td>-0.058753</td>\n",
              "      <td>0.762704</td>\n",
              "      <td>0.876597</td>\n",
              "      <td>0.435043</td>\n",
              "      <td>0.318049</td>\n",
              "      <td>0.055363</td>\n",
              "      <td>-0.199430</td>\n",
              "      <td>0.052529</td>\n",
              "      <td>0.240223</td>\n",
              "      <td>0.756420</td>\n",
              "      <td>0.183286</td>\n",
              "    </tr>\n",
              "    <tr>\n",
              "      <th>sqft_lot</th>\n",
              "      <td>-0.132109</td>\n",
              "      <td>0.089661</td>\n",
              "      <td>0.031684</td>\n",
              "      <td>0.087740</td>\n",
              "      <td>0.172826</td>\n",
              "      <td>1.000000</td>\n",
              "      <td>-0.005210</td>\n",
              "      <td>0.021604</td>\n",
              "      <td>0.074710</td>\n",
              "      <td>-0.008958</td>\n",
              "      <td>0.113621</td>\n",
              "      <td>0.183512</td>\n",
              "      <td>0.015286</td>\n",
              "      <td>0.053080</td>\n",
              "      <td>0.007644</td>\n",
              "      <td>-0.129574</td>\n",
              "      <td>-0.085683</td>\n",
              "      <td>0.229521</td>\n",
              "      <td>0.144608</td>\n",
              "      <td>0.718557</td>\n",
              "    </tr>\n",
              "    <tr>\n",
              "      <th>floors</th>\n",
              "      <td>0.018595</td>\n",
              "      <td>0.256791</td>\n",
              "      <td>0.175440</td>\n",
              "      <td>0.500626</td>\n",
              "      <td>0.353922</td>\n",
              "      <td>-0.005210</td>\n",
              "      <td>1.000000</td>\n",
              "      <td>0.023695</td>\n",
              "      <td>0.029432</td>\n",
              "      <td>-0.263740</td>\n",
              "      <td>0.458171</td>\n",
              "      <td>0.523863</td>\n",
              "      <td>-0.245708</td>\n",
              "      <td>0.489298</td>\n",
              "      <td>0.006330</td>\n",
              "      <td>-0.059093</td>\n",
              "      <td>0.049656</td>\n",
              "      <td>0.125399</td>\n",
              "      <td>0.279856</td>\n",
              "      <td>-0.011280</td>\n",
              "    </tr>\n",
              "    <tr>\n",
              "      <th>waterfront</th>\n",
              "      <td>-0.002721</td>\n",
              "      <td>0.266369</td>\n",
              "      <td>-0.006589</td>\n",
              "      <td>0.063744</td>\n",
              "      <td>0.103818</td>\n",
              "      <td>0.021604</td>\n",
              "      <td>0.023695</td>\n",
              "      <td>1.000000</td>\n",
              "      <td>0.401857</td>\n",
              "      <td>0.016653</td>\n",
              "      <td>0.082775</td>\n",
              "      <td>0.072075</td>\n",
              "      <td>0.080588</td>\n",
              "      <td>-0.026161</td>\n",
              "      <td>0.092885</td>\n",
              "      <td>0.030285</td>\n",
              "      <td>-0.014274</td>\n",
              "      <td>-0.041910</td>\n",
              "      <td>0.086463</td>\n",
              "      <td>0.030703</td>\n",
              "    </tr>\n",
              "    <tr>\n",
              "      <th>view</th>\n",
              "      <td>0.011592</td>\n",
              "      <td>0.397293</td>\n",
              "      <td>0.079515</td>\n",
              "      <td>0.187737</td>\n",
              "      <td>0.284611</td>\n",
              "      <td>0.074710</td>\n",
              "      <td>0.029432</td>\n",
              "      <td>0.401857</td>\n",
              "      <td>1.000000</td>\n",
              "      <td>0.045990</td>\n",
              "      <td>0.251321</td>\n",
              "      <td>0.167649</td>\n",
              "      <td>0.276947</td>\n",
              "      <td>-0.053440</td>\n",
              "      <td>0.103917</td>\n",
              "      <td>0.084827</td>\n",
              "      <td>0.006157</td>\n",
              "      <td>-0.078400</td>\n",
              "      <td>0.280439</td>\n",
              "      <td>0.072575</td>\n",
              "    </tr>\n",
              "    <tr>\n",
              "      <th>condition</th>\n",
              "      <td>-0.023783</td>\n",
              "      <td>0.036362</td>\n",
              "      <td>0.028534</td>\n",
              "      <td>-0.124982</td>\n",
              "      <td>-0.058753</td>\n",
              "      <td>-0.008958</td>\n",
              "      <td>-0.263740</td>\n",
              "      <td>0.016653</td>\n",
              "      <td>0.045990</td>\n",
              "      <td>1.000000</td>\n",
              "      <td>-0.144674</td>\n",
              "      <td>-0.158214</td>\n",
              "      <td>0.174105</td>\n",
              "      <td>-0.361417</td>\n",
              "      <td>-0.060618</td>\n",
              "      <td>0.003026</td>\n",
              "      <td>-0.014941</td>\n",
              "      <td>-0.106500</td>\n",
              "      <td>-0.092824</td>\n",
              "      <td>-0.003406</td>\n",
              "    </tr>\n",
              "    <tr>\n",
              "      <th>grade</th>\n",
              "      <td>0.008130</td>\n",
              "      <td>0.667434</td>\n",
              "      <td>0.356972</td>\n",
              "      <td>0.664983</td>\n",
              "      <td>0.762704</td>\n",
              "      <td>0.113621</td>\n",
              "      <td>0.458171</td>\n",
              "      <td>0.082775</td>\n",
              "      <td>0.251321</td>\n",
              "      <td>-0.144674</td>\n",
              "      <td>1.000000</td>\n",
              "      <td>0.755923</td>\n",
              "      <td>0.168392</td>\n",
              "      <td>0.446963</td>\n",
              "      <td>0.014414</td>\n",
              "      <td>-0.184862</td>\n",
              "      <td>0.114084</td>\n",
              "      <td>0.198372</td>\n",
              "      <td>0.713202</td>\n",
              "      <td>0.119248</td>\n",
              "    </tr>\n",
              "    <tr>\n",
              "      <th>sqft_above</th>\n",
              "      <td>-0.010842</td>\n",
              "      <td>0.605567</td>\n",
              "      <td>0.477618</td>\n",
              "      <td>0.685342</td>\n",
              "      <td>0.876597</td>\n",
              "      <td>0.183512</td>\n",
              "      <td>0.523863</td>\n",
              "      <td>0.072075</td>\n",
              "      <td>0.167649</td>\n",
              "      <td>-0.158214</td>\n",
              "      <td>0.755923</td>\n",
              "      <td>1.000000</td>\n",
              "      <td>-0.051943</td>\n",
              "      <td>0.423898</td>\n",
              "      <td>0.023285</td>\n",
              "      <td>-0.261190</td>\n",
              "      <td>-0.000816</td>\n",
              "      <td>0.343803</td>\n",
              "      <td>0.731870</td>\n",
              "      <td>0.194050</td>\n",
              "    </tr>\n",
              "    <tr>\n",
              "      <th>sqft_basement</th>\n",
              "      <td>-0.005151</td>\n",
              "      <td>0.323816</td>\n",
              "      <td>0.303078</td>\n",
              "      <td>0.283770</td>\n",
              "      <td>0.435043</td>\n",
              "      <td>0.015286</td>\n",
              "      <td>-0.245708</td>\n",
              "      <td>0.080588</td>\n",
              "      <td>0.276947</td>\n",
              "      <td>0.174105</td>\n",
              "      <td>0.168392</td>\n",
              "      <td>-0.051943</td>\n",
              "      <td>1.000000</td>\n",
              "      <td>-0.133124</td>\n",
              "      <td>0.071323</td>\n",
              "      <td>0.074845</td>\n",
              "      <td>0.110538</td>\n",
              "      <td>-0.144765</td>\n",
              "      <td>0.200355</td>\n",
              "      <td>0.017276</td>\n",
              "    </tr>\n",
              "    <tr>\n",
              "      <th>yr_built</th>\n",
              "      <td>0.021380</td>\n",
              "      <td>0.054012</td>\n",
              "      <td>0.154197</td>\n",
              "      <td>0.506019</td>\n",
              "      <td>0.318049</td>\n",
              "      <td>0.053080</td>\n",
              "      <td>0.489298</td>\n",
              "      <td>-0.026161</td>\n",
              "      <td>-0.053440</td>\n",
              "      <td>-0.361417</td>\n",
              "      <td>0.446963</td>\n",
              "      <td>0.423898</td>\n",
              "      <td>-0.133124</td>\n",
              "      <td>1.000000</td>\n",
              "      <td>-0.224874</td>\n",
              "      <td>-0.346869</td>\n",
              "      <td>-0.148122</td>\n",
              "      <td>0.409356</td>\n",
              "      <td>0.326229</td>\n",
              "      <td>0.070958</td>\n",
              "    </tr>\n",
              "    <tr>\n",
              "      <th>yr_renovated</th>\n",
              "      <td>-0.016907</td>\n",
              "      <td>0.126434</td>\n",
              "      <td>0.018827</td>\n",
              "      <td>0.050739</td>\n",
              "      <td>0.055363</td>\n",
              "      <td>0.007644</td>\n",
              "      <td>0.006330</td>\n",
              "      <td>0.092885</td>\n",
              "      <td>0.103917</td>\n",
              "      <td>-0.060618</td>\n",
              "      <td>0.014414</td>\n",
              "      <td>0.023285</td>\n",
              "      <td>0.071323</td>\n",
              "      <td>-0.224874</td>\n",
              "      <td>1.000000</td>\n",
              "      <td>0.064357</td>\n",
              "      <td>0.029398</td>\n",
              "      <td>-0.068372</td>\n",
              "      <td>-0.002673</td>\n",
              "      <td>0.007854</td>\n",
              "    </tr>\n",
              "    <tr>\n",
              "      <th>zipcode</th>\n",
              "      <td>-0.008224</td>\n",
              "      <td>-0.053203</td>\n",
              "      <td>-0.152706</td>\n",
              "      <td>-0.203866</td>\n",
              "      <td>-0.199430</td>\n",
              "      <td>-0.129574</td>\n",
              "      <td>-0.059093</td>\n",
              "      <td>0.030285</td>\n",
              "      <td>0.084827</td>\n",
              "      <td>0.003026</td>\n",
              "      <td>-0.184862</td>\n",
              "      <td>-0.261190</td>\n",
              "      <td>0.074845</td>\n",
              "      <td>-0.346869</td>\n",
              "      <td>0.064357</td>\n",
              "      <td>1.000000</td>\n",
              "      <td>0.267048</td>\n",
              "      <td>-0.564072</td>\n",
              "      <td>-0.279033</td>\n",
              "      <td>-0.147221</td>\n",
              "    </tr>\n",
              "    <tr>\n",
              "      <th>lat</th>\n",
              "      <td>-0.001891</td>\n",
              "      <td>0.307003</td>\n",
              "      <td>-0.008963</td>\n",
              "      <td>0.024573</td>\n",
              "      <td>0.052529</td>\n",
              "      <td>-0.085683</td>\n",
              "      <td>0.049656</td>\n",
              "      <td>-0.014274</td>\n",
              "      <td>0.006157</td>\n",
              "      <td>-0.014941</td>\n",
              "      <td>0.114084</td>\n",
              "      <td>-0.000816</td>\n",
              "      <td>0.110538</td>\n",
              "      <td>-0.148122</td>\n",
              "      <td>0.029398</td>\n",
              "      <td>0.267048</td>\n",
              "      <td>1.000000</td>\n",
              "      <td>-0.135512</td>\n",
              "      <td>0.048858</td>\n",
              "      <td>-0.086419</td>\n",
              "    </tr>\n",
              "    <tr>\n",
              "      <th>long</th>\n",
              "      <td>0.020799</td>\n",
              "      <td>0.021626</td>\n",
              "      <td>0.129498</td>\n",
              "      <td>0.223042</td>\n",
              "      <td>0.240223</td>\n",
              "      <td>0.229521</td>\n",
              "      <td>0.125399</td>\n",
              "      <td>-0.041910</td>\n",
              "      <td>-0.078400</td>\n",
              "      <td>-0.106500</td>\n",
              "      <td>0.198372</td>\n",
              "      <td>0.343803</td>\n",
              "      <td>-0.144765</td>\n",
              "      <td>0.409356</td>\n",
              "      <td>-0.068372</td>\n",
              "      <td>-0.564072</td>\n",
              "      <td>-0.135512</td>\n",
              "      <td>1.000000</td>\n",
              "      <td>0.334605</td>\n",
              "      <td>0.254451</td>\n",
              "    </tr>\n",
              "    <tr>\n",
              "      <th>sqft_living15</th>\n",
              "      <td>-0.002901</td>\n",
              "      <td>0.585379</td>\n",
              "      <td>0.391670</td>\n",
              "      <td>0.568634</td>\n",
              "      <td>0.756420</td>\n",
              "      <td>0.144608</td>\n",
              "      <td>0.279856</td>\n",
              "      <td>0.086463</td>\n",
              "      <td>0.280439</td>\n",
              "      <td>-0.092824</td>\n",
              "      <td>0.713202</td>\n",
              "      <td>0.731870</td>\n",
              "      <td>0.200355</td>\n",
              "      <td>0.326229</td>\n",
              "      <td>-0.002673</td>\n",
              "      <td>-0.279033</td>\n",
              "      <td>0.048858</td>\n",
              "      <td>0.334605</td>\n",
              "      <td>1.000000</td>\n",
              "      <td>0.183192</td>\n",
              "    </tr>\n",
              "    <tr>\n",
              "      <th>sqft_lot15</th>\n",
              "      <td>-0.138798</td>\n",
              "      <td>0.082447</td>\n",
              "      <td>0.029221</td>\n",
              "      <td>0.087175</td>\n",
              "      <td>0.183286</td>\n",
              "      <td>0.718557</td>\n",
              "      <td>-0.011280</td>\n",
              "      <td>0.030703</td>\n",
              "      <td>0.072575</td>\n",
              "      <td>-0.003406</td>\n",
              "      <td>0.119248</td>\n",
              "      <td>0.194050</td>\n",
              "      <td>0.017276</td>\n",
              "      <td>0.070958</td>\n",
              "      <td>0.007854</td>\n",
              "      <td>-0.147221</td>\n",
              "      <td>-0.086419</td>\n",
              "      <td>0.254451</td>\n",
              "      <td>0.183192</td>\n",
              "      <td>1.000000</td>\n",
              "    </tr>\n",
              "  </tbody>\n",
              "</table>\n",
              "</div>"
            ],
            "text/plain": [
              "                     id     price  bedrooms  bathrooms  sqft_living  sqft_lot  \\\n",
              "id             1.000000 -0.016762  0.001235   0.005160    -0.012258 -0.132109   \n",
              "price         -0.016762  1.000000  0.308321   0.525138     0.702035  0.089661   \n",
              "bedrooms       0.001235  0.308321  1.000000   0.515929     0.576679  0.031684   \n",
              "bathrooms      0.005160  0.525138  0.515929   1.000000     0.754665  0.087740   \n",
              "sqft_living   -0.012258  0.702035  0.576679   0.754665     1.000000  0.172826   \n",
              "sqft_lot      -0.132109  0.089661  0.031684   0.087740     0.172826  1.000000   \n",
              "floors         0.018595  0.256791  0.175440   0.500626     0.353922 -0.005210   \n",
              "waterfront    -0.002721  0.266369 -0.006589   0.063744     0.103818  0.021604   \n",
              "view           0.011592  0.397293  0.079515   0.187737     0.284611  0.074710   \n",
              "condition     -0.023783  0.036362  0.028534  -0.124982    -0.058753 -0.008958   \n",
              "grade          0.008130  0.667434  0.356972   0.664983     0.762704  0.113621   \n",
              "sqft_above    -0.010842  0.605567  0.477618   0.685342     0.876597  0.183512   \n",
              "sqft_basement -0.005151  0.323816  0.303078   0.283770     0.435043  0.015286   \n",
              "yr_built       0.021380  0.054012  0.154197   0.506019     0.318049  0.053080   \n",
              "yr_renovated  -0.016907  0.126434  0.018827   0.050739     0.055363  0.007644   \n",
              "zipcode       -0.008224 -0.053203 -0.152706  -0.203866    -0.199430 -0.129574   \n",
              "lat           -0.001891  0.307003 -0.008963   0.024573     0.052529 -0.085683   \n",
              "long           0.020799  0.021626  0.129498   0.223042     0.240223  0.229521   \n",
              "sqft_living15 -0.002901  0.585379  0.391670   0.568634     0.756420  0.144608   \n",
              "sqft_lot15    -0.138798  0.082447  0.029221   0.087175     0.183286  0.718557   \n",
              "\n",
              "                 floors  waterfront      view  condition     grade  \\\n",
              "id             0.018595   -0.002721  0.011592  -0.023783  0.008130   \n",
              "price          0.256791    0.266369  0.397293   0.036362  0.667434   \n",
              "bedrooms       0.175440   -0.006589  0.079515   0.028534  0.356972   \n",
              "bathrooms      0.500626    0.063744  0.187737  -0.124982  0.664983   \n",
              "sqft_living    0.353922    0.103818  0.284611  -0.058753  0.762704   \n",
              "sqft_lot      -0.005210    0.021604  0.074710  -0.008958  0.113621   \n",
              "floors         1.000000    0.023695  0.029432  -0.263740  0.458171   \n",
              "waterfront     0.023695    1.000000  0.401857   0.016653  0.082775   \n",
              "view           0.029432    0.401857  1.000000   0.045990  0.251321   \n",
              "condition     -0.263740    0.016653  0.045990   1.000000 -0.144674   \n",
              "grade          0.458171    0.082775  0.251321  -0.144674  1.000000   \n",
              "sqft_above     0.523863    0.072075  0.167649  -0.158214  0.755923   \n",
              "sqft_basement -0.245708    0.080588  0.276947   0.174105  0.168392   \n",
              "yr_built       0.489298   -0.026161 -0.053440  -0.361417  0.446963   \n",
              "yr_renovated   0.006330    0.092885  0.103917  -0.060618  0.014414   \n",
              "zipcode       -0.059093    0.030285  0.084827   0.003026 -0.184862   \n",
              "lat            0.049656   -0.014274  0.006157  -0.014941  0.114084   \n",
              "long           0.125399   -0.041910 -0.078400  -0.106500  0.198372   \n",
              "sqft_living15  0.279856    0.086463  0.280439  -0.092824  0.713202   \n",
              "sqft_lot15    -0.011280    0.030703  0.072575  -0.003406  0.119248   \n",
              "\n",
              "               sqft_above  sqft_basement  yr_built  yr_renovated   zipcode  \\\n",
              "id              -0.010842      -0.005151  0.021380     -0.016907 -0.008224   \n",
              "price            0.605567       0.323816  0.054012      0.126434 -0.053203   \n",
              "bedrooms         0.477618       0.303078  0.154197      0.018827 -0.152706   \n",
              "bathrooms        0.685342       0.283770  0.506019      0.050739 -0.203866   \n",
              "sqft_living      0.876597       0.435043  0.318049      0.055363 -0.199430   \n",
              "sqft_lot         0.183512       0.015286  0.053080      0.007644 -0.129574   \n",
              "floors           0.523863      -0.245708  0.489298      0.006330 -0.059093   \n",
              "waterfront       0.072075       0.080588 -0.026161      0.092885  0.030285   \n",
              "view             0.167649       0.276947 -0.053440      0.103917  0.084827   \n",
              "condition       -0.158214       0.174105 -0.361417     -0.060618  0.003026   \n",
              "grade            0.755923       0.168392  0.446963      0.014414 -0.184862   \n",
              "sqft_above       1.000000      -0.051943  0.423898      0.023285 -0.261190   \n",
              "sqft_basement   -0.051943       1.000000 -0.133124      0.071323  0.074845   \n",
              "yr_built         0.423898      -0.133124  1.000000     -0.224874 -0.346869   \n",
              "yr_renovated     0.023285       0.071323 -0.224874      1.000000  0.064357   \n",
              "zipcode         -0.261190       0.074845 -0.346869      0.064357  1.000000   \n",
              "lat             -0.000816       0.110538 -0.148122      0.029398  0.267048   \n",
              "long             0.343803      -0.144765  0.409356     -0.068372 -0.564072   \n",
              "sqft_living15    0.731870       0.200355  0.326229     -0.002673 -0.279033   \n",
              "sqft_lot15       0.194050       0.017276  0.070958      0.007854 -0.147221   \n",
              "\n",
              "                    lat      long  sqft_living15  sqft_lot15  \n",
              "id            -0.001891  0.020799      -0.002901   -0.138798  \n",
              "price          0.307003  0.021626       0.585379    0.082447  \n",
              "bedrooms      -0.008963  0.129498       0.391670    0.029221  \n",
              "bathrooms      0.024573  0.223042       0.568634    0.087175  \n",
              "sqft_living    0.052529  0.240223       0.756420    0.183286  \n",
              "sqft_lot      -0.085683  0.229521       0.144608    0.718557  \n",
              "floors         0.049656  0.125399       0.279856   -0.011280  \n",
              "waterfront    -0.014274 -0.041910       0.086463    0.030703  \n",
              "view           0.006157 -0.078400       0.280439    0.072575  \n",
              "condition     -0.014941 -0.106500      -0.092824   -0.003406  \n",
              "grade          0.114084  0.198372       0.713202    0.119248  \n",
              "sqft_above    -0.000816  0.343803       0.731870    0.194050  \n",
              "sqft_basement  0.110538 -0.144765       0.200355    0.017276  \n",
              "yr_built      -0.148122  0.409356       0.326229    0.070958  \n",
              "yr_renovated   0.029398 -0.068372      -0.002673    0.007854  \n",
              "zipcode        0.267048 -0.564072      -0.279033   -0.147221  \n",
              "lat            1.000000 -0.135512       0.048858   -0.086419  \n",
              "long          -0.135512  1.000000       0.334605    0.254451  \n",
              "sqft_living15  0.048858  0.334605       1.000000    0.183192  \n",
              "sqft_lot15    -0.086419  0.254451       0.183192    1.000000  "
            ]
          },
          "execution_count": 6,
          "metadata": {},
          "output_type": "execute_result"
        }
      ],
      "source": [
        "# Imprime a correlação de todas as colunas do dataframe (person)\n",
        "dataset.corr()"
      ]
    },
    {
      "cell_type": "code",
      "execution_count": null,
      "metadata": {
        "id": "T6zVeaz8Vc1b",
        "outputId": "cceb8cf5-fa20-4ca0-c9df-d6a1283af1a0"
      },
      "outputs": [
        {
          "data": {
            "text/html": [
              "<div>\n",
              "<style scoped>\n",
              "    .dataframe tbody tr th:only-of-type {\n",
              "        vertical-align: middle;\n",
              "    }\n",
              "\n",
              "    .dataframe tbody tr th {\n",
              "        vertical-align: top;\n",
              "    }\n",
              "\n",
              "    .dataframe thead th {\n",
              "        text-align: right;\n",
              "    }\n",
              "</style>\n",
              "<table border=\"1\" class=\"dataframe\">\n",
              "  <thead>\n",
              "    <tr style=\"text-align: right;\">\n",
              "      <th></th>\n",
              "      <th>id</th>\n",
              "      <th>price</th>\n",
              "      <th>bedrooms</th>\n",
              "      <th>bathrooms</th>\n",
              "      <th>sqft_living</th>\n",
              "      <th>sqft_lot</th>\n",
              "      <th>floors</th>\n",
              "      <th>waterfront</th>\n",
              "      <th>view</th>\n",
              "      <th>condition</th>\n",
              "      <th>grade</th>\n",
              "      <th>sqft_above</th>\n",
              "      <th>sqft_basement</th>\n",
              "      <th>yr_built</th>\n",
              "      <th>yr_renovated</th>\n",
              "      <th>zipcode</th>\n",
              "      <th>lat</th>\n",
              "      <th>long</th>\n",
              "      <th>sqft_living15</th>\n",
              "      <th>sqft_lot15</th>\n",
              "    </tr>\n",
              "  </thead>\n",
              "  <tbody>\n",
              "    <tr>\n",
              "      <th>id</th>\n",
              "      <td>1.000000</td>\n",
              "      <td>0.004178</td>\n",
              "      <td>0.006185</td>\n",
              "      <td>0.015051</td>\n",
              "      <td>0.001656</td>\n",
              "      <td>-0.116792</td>\n",
              "      <td>0.018905</td>\n",
              "      <td>-0.003573</td>\n",
              "      <td>0.012552</td>\n",
              "      <td>-0.023969</td>\n",
              "      <td>0.019835</td>\n",
              "      <td>0.003523</td>\n",
              "      <td>0.001408</td>\n",
              "      <td>0.026537</td>\n",
              "      <td>-0.017473</td>\n",
              "      <td>-0.005359</td>\n",
              "      <td>-0.003732</td>\n",
              "      <td>0.007413</td>\n",
              "      <td>-0.000035</td>\n",
              "      <td>-0.114735</td>\n",
              "    </tr>\n",
              "    <tr>\n",
              "      <th>price</th>\n",
              "      <td>0.004178</td>\n",
              "      <td>1.000000</td>\n",
              "      <td>0.344615</td>\n",
              "      <td>0.497160</td>\n",
              "      <td>0.644191</td>\n",
              "      <td>0.074939</td>\n",
              "      <td>0.322359</td>\n",
              "      <td>0.115089</td>\n",
              "      <td>0.293931</td>\n",
              "      <td>0.018490</td>\n",
              "      <td>0.658215</td>\n",
              "      <td>0.541752</td>\n",
              "      <td>0.251704</td>\n",
              "      <td>0.102038</td>\n",
              "      <td>0.101876</td>\n",
              "      <td>-0.008735</td>\n",
              "      <td>0.456409</td>\n",
              "      <td>0.063537</td>\n",
              "      <td>0.572290</td>\n",
              "      <td>0.062766</td>\n",
              "    </tr>\n",
              "    <tr>\n",
              "      <th>bedrooms</th>\n",
              "      <td>0.006185</td>\n",
              "      <td>0.344615</td>\n",
              "      <td>1.000000</td>\n",
              "      <td>0.521451</td>\n",
              "      <td>0.647395</td>\n",
              "      <td>0.216479</td>\n",
              "      <td>0.227565</td>\n",
              "      <td>-0.007604</td>\n",
              "      <td>0.081405</td>\n",
              "      <td>0.012748</td>\n",
              "      <td>0.380555</td>\n",
              "      <td>0.539755</td>\n",
              "      <td>0.230484</td>\n",
              "      <td>0.180037</td>\n",
              "      <td>0.016863</td>\n",
              "      <td>-0.167202</td>\n",
              "      <td>-0.021236</td>\n",
              "      <td>0.191430</td>\n",
              "      <td>0.443878</td>\n",
              "      <td>0.201530</td>\n",
              "    </tr>\n",
              "    <tr>\n",
              "      <th>bathrooms</th>\n",
              "      <td>0.015051</td>\n",
              "      <td>0.497160</td>\n",
              "      <td>0.521451</td>\n",
              "      <td>1.000000</td>\n",
              "      <td>0.745526</td>\n",
              "      <td>0.068805</td>\n",
              "      <td>0.546776</td>\n",
              "      <td>0.049522</td>\n",
              "      <td>0.155549</td>\n",
              "      <td>-0.162891</td>\n",
              "      <td>0.658194</td>\n",
              "      <td>0.691006</td>\n",
              "      <td>0.191848</td>\n",
              "      <td>0.566982</td>\n",
              "      <td>0.042688</td>\n",
              "      <td>-0.204783</td>\n",
              "      <td>0.008283</td>\n",
              "      <td>0.261539</td>\n",
              "      <td>0.570304</td>\n",
              "      <td>0.063111</td>\n",
              "    </tr>\n",
              "    <tr>\n",
              "      <th>sqft_living</th>\n",
              "      <td>0.001656</td>\n",
              "      <td>0.644191</td>\n",
              "      <td>0.647395</td>\n",
              "      <td>0.745526</td>\n",
              "      <td>1.000000</td>\n",
              "      <td>0.304159</td>\n",
              "      <td>0.401232</td>\n",
              "      <td>0.070326</td>\n",
              "      <td>0.232994</td>\n",
              "      <td>-0.062638</td>\n",
              "      <td>0.716400</td>\n",
              "      <td>0.843504</td>\n",
              "      <td>0.327878</td>\n",
              "      <td>0.352421</td>\n",
              "      <td>0.052679</td>\n",
              "      <td>-0.206848</td>\n",
              "      <td>0.030980</td>\n",
              "      <td>0.284584</td>\n",
              "      <td>0.746982</td>\n",
              "      <td>0.283864</td>\n",
              "    </tr>\n",
              "    <tr>\n",
              "      <th>sqft_lot</th>\n",
              "      <td>-0.116792</td>\n",
              "      <td>0.074939</td>\n",
              "      <td>0.216479</td>\n",
              "      <td>0.068805</td>\n",
              "      <td>0.304159</td>\n",
              "      <td>1.000000</td>\n",
              "      <td>-0.234460</td>\n",
              "      <td>0.085601</td>\n",
              "      <td>0.117033</td>\n",
              "      <td>0.114724</td>\n",
              "      <td>0.152049</td>\n",
              "      <td>0.272408</td>\n",
              "      <td>0.036624</td>\n",
              "      <td>-0.037569</td>\n",
              "      <td>0.008536</td>\n",
              "      <td>-0.319494</td>\n",
              "      <td>-0.122052</td>\n",
              "      <td>0.370551</td>\n",
              "      <td>0.359572</td>\n",
              "      <td>0.922316</td>\n",
              "    </tr>\n",
              "    <tr>\n",
              "      <th>floors</th>\n",
              "      <td>0.018905</td>\n",
              "      <td>0.322359</td>\n",
              "      <td>0.227565</td>\n",
              "      <td>0.546776</td>\n",
              "      <td>0.401232</td>\n",
              "      <td>-0.234460</td>\n",
              "      <td>1.000000</td>\n",
              "      <td>0.023876</td>\n",
              "      <td>0.019641</td>\n",
              "      <td>-0.287878</td>\n",
              "      <td>0.501672</td>\n",
              "      <td>0.599258</td>\n",
              "      <td>-0.272436</td>\n",
              "      <td>0.551660</td>\n",
              "      <td>0.012570</td>\n",
              "      <td>-0.061427</td>\n",
              "      <td>0.024616</td>\n",
              "      <td>0.148640</td>\n",
              "      <td>0.305398</td>\n",
              "      <td>-0.231411</td>\n",
              "    </tr>\n",
              "    <tr>\n",
              "      <th>waterfront</th>\n",
              "      <td>-0.003573</td>\n",
              "      <td>0.115089</td>\n",
              "      <td>-0.007604</td>\n",
              "      <td>0.049522</td>\n",
              "      <td>0.070326</td>\n",
              "      <td>0.085601</td>\n",
              "      <td>0.023876</td>\n",
              "      <td>1.000000</td>\n",
              "      <td>0.284924</td>\n",
              "      <td>0.016744</td>\n",
              "      <td>0.062189</td>\n",
              "      <td>0.054490</td>\n",
              "      <td>0.051969</td>\n",
              "      <td>-0.028605</td>\n",
              "      <td>0.091649</td>\n",
              "      <td>0.029591</td>\n",
              "      <td>-0.019044</td>\n",
              "      <td>-0.038139</td>\n",
              "      <td>0.074564</td>\n",
              "      <td>0.092271</td>\n",
              "    </tr>\n",
              "    <tr>\n",
              "      <th>view</th>\n",
              "      <td>0.012552</td>\n",
              "      <td>0.293931</td>\n",
              "      <td>0.081405</td>\n",
              "      <td>0.155549</td>\n",
              "      <td>0.232994</td>\n",
              "      <td>0.117033</td>\n",
              "      <td>0.019641</td>\n",
              "      <td>0.284924</td>\n",
              "      <td>1.000000</td>\n",
              "      <td>0.046000</td>\n",
              "      <td>0.217044</td>\n",
              "      <td>0.144394</td>\n",
              "      <td>0.236525</td>\n",
              "      <td>-0.066607</td>\n",
              "      <td>0.096539</td>\n",
              "      <td>0.078215</td>\n",
              "      <td>-0.000073</td>\n",
              "      <td>-0.102728</td>\n",
              "      <td>0.255793</td>\n",
              "      <td>0.116520</td>\n",
              "    </tr>\n",
              "    <tr>\n",
              "      <th>condition</th>\n",
              "      <td>-0.023969</td>\n",
              "      <td>0.018490</td>\n",
              "      <td>0.012748</td>\n",
              "      <td>-0.162891</td>\n",
              "      <td>-0.062638</td>\n",
              "      <td>0.114724</td>\n",
              "      <td>-0.287878</td>\n",
              "      <td>0.016744</td>\n",
              "      <td>0.046000</td>\n",
              "      <td>1.000000</td>\n",
              "      <td>-0.167374</td>\n",
              "      <td>-0.158126</td>\n",
              "      <td>0.161623</td>\n",
              "      <td>-0.393816</td>\n",
              "      <td>-0.066180</td>\n",
              "      <td>-0.022416</td>\n",
              "      <td>-0.022341</td>\n",
              "      <td>-0.085270</td>\n",
              "      <td>-0.086905</td>\n",
              "      <td>0.117719</td>\n",
              "    </tr>\n",
              "    <tr>\n",
              "      <th>grade</th>\n",
              "      <td>0.019835</td>\n",
              "      <td>0.658215</td>\n",
              "      <td>0.380555</td>\n",
              "      <td>0.658194</td>\n",
              "      <td>0.716400</td>\n",
              "      <td>0.152049</td>\n",
              "      <td>0.501672</td>\n",
              "      <td>0.062189</td>\n",
              "      <td>0.217044</td>\n",
              "      <td>-0.167374</td>\n",
              "      <td>1.000000</td>\n",
              "      <td>0.711815</td>\n",
              "      <td>0.092927</td>\n",
              "      <td>0.500633</td>\n",
              "      <td>0.016029</td>\n",
              "      <td>-0.181552</td>\n",
              "      <td>0.103921</td>\n",
              "      <td>0.222791</td>\n",
              "      <td>0.662635</td>\n",
              "      <td>0.156109</td>\n",
              "    </tr>\n",
              "    <tr>\n",
              "      <th>sqft_above</th>\n",
              "      <td>0.003523</td>\n",
              "      <td>0.541752</td>\n",
              "      <td>0.539755</td>\n",
              "      <td>0.691006</td>\n",
              "      <td>0.843504</td>\n",
              "      <td>0.272408</td>\n",
              "      <td>0.599258</td>\n",
              "      <td>0.054490</td>\n",
              "      <td>0.144394</td>\n",
              "      <td>-0.158126</td>\n",
              "      <td>0.711815</td>\n",
              "      <td>1.000000</td>\n",
              "      <td>-0.165644</td>\n",
              "      <td>0.471835</td>\n",
              "      <td>0.030942</td>\n",
              "      <td>-0.278562</td>\n",
              "      <td>-0.025860</td>\n",
              "      <td>0.385472</td>\n",
              "      <td>0.696646</td>\n",
              "      <td>0.254203</td>\n",
              "    </tr>\n",
              "    <tr>\n",
              "      <th>sqft_basement</th>\n",
              "      <td>0.001408</td>\n",
              "      <td>0.251704</td>\n",
              "      <td>0.230484</td>\n",
              "      <td>0.191848</td>\n",
              "      <td>0.327878</td>\n",
              "      <td>0.036624</td>\n",
              "      <td>-0.272436</td>\n",
              "      <td>0.051969</td>\n",
              "      <td>0.236525</td>\n",
              "      <td>0.161623</td>\n",
              "      <td>0.092927</td>\n",
              "      <td>-0.165644</td>\n",
              "      <td>1.000000</td>\n",
              "      <td>-0.177993</td>\n",
              "      <td>0.062837</td>\n",
              "      <td>0.114533</td>\n",
              "      <td>0.116296</td>\n",
              "      <td>-0.200191</td>\n",
              "      <td>0.129733</td>\n",
              "      <td>0.030566</td>\n",
              "    </tr>\n",
              "    <tr>\n",
              "      <th>yr_built</th>\n",
              "      <td>0.026537</td>\n",
              "      <td>0.102038</td>\n",
              "      <td>0.180037</td>\n",
              "      <td>0.566982</td>\n",
              "      <td>0.352421</td>\n",
              "      <td>-0.037569</td>\n",
              "      <td>0.551660</td>\n",
              "      <td>-0.028605</td>\n",
              "      <td>-0.066607</td>\n",
              "      <td>-0.393816</td>\n",
              "      <td>0.500633</td>\n",
              "      <td>0.471835</td>\n",
              "      <td>-0.177993</td>\n",
              "      <td>1.000000</td>\n",
              "      <td>-0.214504</td>\n",
              "      <td>-0.316874</td>\n",
              "      <td>-0.125902</td>\n",
              "      <td>0.412648</td>\n",
              "      <td>0.336087</td>\n",
              "      <td>-0.016260</td>\n",
              "    </tr>\n",
              "    <tr>\n",
              "      <th>yr_renovated</th>\n",
              "      <td>-0.017473</td>\n",
              "      <td>0.101876</td>\n",
              "      <td>0.016863</td>\n",
              "      <td>0.042688</td>\n",
              "      <td>0.052679</td>\n",
              "      <td>0.008536</td>\n",
              "      <td>0.012570</td>\n",
              "      <td>0.091649</td>\n",
              "      <td>0.096539</td>\n",
              "      <td>-0.066180</td>\n",
              "      <td>0.016029</td>\n",
              "      <td>0.030942</td>\n",
              "      <td>0.062837</td>\n",
              "      <td>-0.214504</td>\n",
              "      <td>1.000000</td>\n",
              "      <td>0.062424</td>\n",
              "      <td>0.025396</td>\n",
              "      <td>-0.075119</td>\n",
              "      <td>-0.005588</td>\n",
              "      <td>0.008830</td>\n",
              "    </tr>\n",
              "    <tr>\n",
              "      <th>zipcode</th>\n",
              "      <td>-0.005359</td>\n",
              "      <td>-0.008735</td>\n",
              "      <td>-0.167202</td>\n",
              "      <td>-0.204783</td>\n",
              "      <td>-0.206848</td>\n",
              "      <td>-0.319494</td>\n",
              "      <td>-0.061427</td>\n",
              "      <td>0.029591</td>\n",
              "      <td>0.078215</td>\n",
              "      <td>-0.022416</td>\n",
              "      <td>-0.181552</td>\n",
              "      <td>-0.278562</td>\n",
              "      <td>0.114533</td>\n",
              "      <td>-0.316874</td>\n",
              "      <td>0.062424</td>\n",
              "      <td>1.000000</td>\n",
              "      <td>0.249606</td>\n",
              "      <td>-0.577173</td>\n",
              "      <td>-0.287180</td>\n",
              "      <td>-0.326118</td>\n",
              "    </tr>\n",
              "    <tr>\n",
              "      <th>lat</th>\n",
              "      <td>-0.003732</td>\n",
              "      <td>0.456409</td>\n",
              "      <td>-0.021236</td>\n",
              "      <td>0.008283</td>\n",
              "      <td>0.030980</td>\n",
              "      <td>-0.122052</td>\n",
              "      <td>0.024616</td>\n",
              "      <td>-0.019044</td>\n",
              "      <td>-0.000073</td>\n",
              "      <td>-0.022341</td>\n",
              "      <td>0.103921</td>\n",
              "      <td>-0.025860</td>\n",
              "      <td>0.116296</td>\n",
              "      <td>-0.125902</td>\n",
              "      <td>0.025396</td>\n",
              "      <td>0.249606</td>\n",
              "      <td>1.000000</td>\n",
              "      <td>-0.143307</td>\n",
              "      <td>0.027566</td>\n",
              "      <td>-0.116542</td>\n",
              "    </tr>\n",
              "    <tr>\n",
              "      <th>long</th>\n",
              "      <td>0.007413</td>\n",
              "      <td>0.063537</td>\n",
              "      <td>0.191430</td>\n",
              "      <td>0.261539</td>\n",
              "      <td>0.284584</td>\n",
              "      <td>0.370551</td>\n",
              "      <td>0.148640</td>\n",
              "      <td>-0.038139</td>\n",
              "      <td>-0.102728</td>\n",
              "      <td>-0.085270</td>\n",
              "      <td>0.222791</td>\n",
              "      <td>0.385472</td>\n",
              "      <td>-0.200191</td>\n",
              "      <td>0.412648</td>\n",
              "      <td>-0.075119</td>\n",
              "      <td>-0.577173</td>\n",
              "      <td>-0.143307</td>\n",
              "      <td>1.000000</td>\n",
              "      <td>0.380412</td>\n",
              "      <td>0.373071</td>\n",
              "    </tr>\n",
              "    <tr>\n",
              "      <th>sqft_living15</th>\n",
              "      <td>-0.000035</td>\n",
              "      <td>0.572290</td>\n",
              "      <td>0.443878</td>\n",
              "      <td>0.570304</td>\n",
              "      <td>0.746982</td>\n",
              "      <td>0.359572</td>\n",
              "      <td>0.305398</td>\n",
              "      <td>0.074564</td>\n",
              "      <td>0.255793</td>\n",
              "      <td>-0.086905</td>\n",
              "      <td>0.662635</td>\n",
              "      <td>0.696646</td>\n",
              "      <td>0.129733</td>\n",
              "      <td>0.336087</td>\n",
              "      <td>-0.005588</td>\n",
              "      <td>-0.287180</td>\n",
              "      <td>0.027566</td>\n",
              "      <td>0.380412</td>\n",
              "      <td>1.000000</td>\n",
              "      <td>0.365723</td>\n",
              "    </tr>\n",
              "    <tr>\n",
              "      <th>sqft_lot15</th>\n",
              "      <td>-0.114735</td>\n",
              "      <td>0.062766</td>\n",
              "      <td>0.201530</td>\n",
              "      <td>0.063111</td>\n",
              "      <td>0.283864</td>\n",
              "      <td>0.922316</td>\n",
              "      <td>-0.231411</td>\n",
              "      <td>0.092271</td>\n",
              "      <td>0.116520</td>\n",
              "      <td>0.117719</td>\n",
              "      <td>0.156109</td>\n",
              "      <td>0.254203</td>\n",
              "      <td>0.030566</td>\n",
              "      <td>-0.016260</td>\n",
              "      <td>0.008830</td>\n",
              "      <td>-0.326118</td>\n",
              "      <td>-0.116542</td>\n",
              "      <td>0.373071</td>\n",
              "      <td>0.365723</td>\n",
              "      <td>1.000000</td>\n",
              "    </tr>\n",
              "  </tbody>\n",
              "</table>\n",
              "</div>"
            ],
            "text/plain": [
              "                     id     price  bedrooms  bathrooms  sqft_living  sqft_lot  \\\n",
              "id             1.000000  0.004178  0.006185   0.015051     0.001656 -0.116792   \n",
              "price          0.004178  1.000000  0.344615   0.497160     0.644191  0.074939   \n",
              "bedrooms       0.006185  0.344615  1.000000   0.521451     0.647395  0.216479   \n",
              "bathrooms      0.015051  0.497160  0.521451   1.000000     0.745526  0.068805   \n",
              "sqft_living    0.001656  0.644191  0.647395   0.745526     1.000000  0.304159   \n",
              "sqft_lot      -0.116792  0.074939  0.216479   0.068805     0.304159  1.000000   \n",
              "floors         0.018905  0.322359  0.227565   0.546776     0.401232 -0.234460   \n",
              "waterfront    -0.003573  0.115089 -0.007604   0.049522     0.070326  0.085601   \n",
              "view           0.012552  0.293931  0.081405   0.155549     0.232994  0.117033   \n",
              "condition     -0.023969  0.018490  0.012748  -0.162891    -0.062638  0.114724   \n",
              "grade          0.019835  0.658215  0.380555   0.658194     0.716400  0.152049   \n",
              "sqft_above     0.003523  0.541752  0.539755   0.691006     0.843504  0.272408   \n",
              "sqft_basement  0.001408  0.251704  0.230484   0.191848     0.327878  0.036624   \n",
              "yr_built       0.026537  0.102038  0.180037   0.566982     0.352421 -0.037569   \n",
              "yr_renovated  -0.017473  0.101876  0.016863   0.042688     0.052679  0.008536   \n",
              "zipcode       -0.005359 -0.008735 -0.167202  -0.204783    -0.206848 -0.319494   \n",
              "lat           -0.003732  0.456409 -0.021236   0.008283     0.030980 -0.122052   \n",
              "long           0.007413  0.063537  0.191430   0.261539     0.284584  0.370551   \n",
              "sqft_living15 -0.000035  0.572290  0.443878   0.570304     0.746982  0.359572   \n",
              "sqft_lot15    -0.114735  0.062766  0.201530   0.063111     0.283864  0.922316   \n",
              "\n",
              "                 floors  waterfront      view  condition     grade  \\\n",
              "id             0.018905   -0.003573  0.012552  -0.023969  0.019835   \n",
              "price          0.322359    0.115089  0.293931   0.018490  0.658215   \n",
              "bedrooms       0.227565   -0.007604  0.081405   0.012748  0.380555   \n",
              "bathrooms      0.546776    0.049522  0.155549  -0.162891  0.658194   \n",
              "sqft_living    0.401232    0.070326  0.232994  -0.062638  0.716400   \n",
              "sqft_lot      -0.234460    0.085601  0.117033   0.114724  0.152049   \n",
              "floors         1.000000    0.023876  0.019641  -0.287878  0.501672   \n",
              "waterfront     0.023876    1.000000  0.284924   0.016744  0.062189   \n",
              "view           0.019641    0.284924  1.000000   0.046000  0.217044   \n",
              "condition     -0.287878    0.016744  0.046000   1.000000 -0.167374   \n",
              "grade          0.501672    0.062189  0.217044  -0.167374  1.000000   \n",
              "sqft_above     0.599258    0.054490  0.144394  -0.158126  0.711815   \n",
              "sqft_basement -0.272436    0.051969  0.236525   0.161623  0.092927   \n",
              "yr_built       0.551660   -0.028605 -0.066607  -0.393816  0.500633   \n",
              "yr_renovated   0.012570    0.091649  0.096539  -0.066180  0.016029   \n",
              "zipcode       -0.061427    0.029591  0.078215  -0.022416 -0.181552   \n",
              "lat            0.024616   -0.019044 -0.000073  -0.022341  0.103921   \n",
              "long           0.148640   -0.038139 -0.102728  -0.085270  0.222791   \n",
              "sqft_living15  0.305398    0.074564  0.255793  -0.086905  0.662635   \n",
              "sqft_lot15    -0.231411    0.092271  0.116520   0.117719  0.156109   \n",
              "\n",
              "               sqft_above  sqft_basement  yr_built  yr_renovated   zipcode  \\\n",
              "id               0.003523       0.001408  0.026537     -0.017473 -0.005359   \n",
              "price            0.541752       0.251704  0.102038      0.101876 -0.008735   \n",
              "bedrooms         0.539755       0.230484  0.180037      0.016863 -0.167202   \n",
              "bathrooms        0.691006       0.191848  0.566982      0.042688 -0.204783   \n",
              "sqft_living      0.843504       0.327878  0.352421      0.052679 -0.206848   \n",
              "sqft_lot         0.272408       0.036624 -0.037569      0.008536 -0.319494   \n",
              "floors           0.599258      -0.272436  0.551660      0.012570 -0.061427   \n",
              "waterfront       0.054490       0.051969 -0.028605      0.091649  0.029591   \n",
              "view             0.144394       0.236525 -0.066607      0.096539  0.078215   \n",
              "condition       -0.158126       0.161623 -0.393816     -0.066180 -0.022416   \n",
              "grade            0.711815       0.092927  0.500633      0.016029 -0.181552   \n",
              "sqft_above       1.000000      -0.165644  0.471835      0.030942 -0.278562   \n",
              "sqft_basement   -0.165644       1.000000 -0.177993      0.062837  0.114533   \n",
              "yr_built         0.471835      -0.177993  1.000000     -0.214504 -0.316874   \n",
              "yr_renovated     0.030942       0.062837 -0.214504      1.000000  0.062424   \n",
              "zipcode         -0.278562       0.114533 -0.316874      0.062424  1.000000   \n",
              "lat             -0.025860       0.116296 -0.125902      0.025396  0.249606   \n",
              "long             0.385472      -0.200191  0.412648     -0.075119 -0.577173   \n",
              "sqft_living15    0.696646       0.129733  0.336087     -0.005588 -0.287180   \n",
              "sqft_lot15       0.254203       0.030566 -0.016260      0.008830 -0.326118   \n",
              "\n",
              "                    lat      long  sqft_living15  sqft_lot15  \n",
              "id            -0.003732  0.007413      -0.000035   -0.114735  \n",
              "price          0.456409  0.063537       0.572290    0.062766  \n",
              "bedrooms      -0.021236  0.191430       0.443878    0.201530  \n",
              "bathrooms      0.008283  0.261539       0.570304    0.063111  \n",
              "sqft_living    0.030980  0.284584       0.746982    0.283864  \n",
              "sqft_lot      -0.122052  0.370551       0.359572    0.922316  \n",
              "floors         0.024616  0.148640       0.305398   -0.231411  \n",
              "waterfront    -0.019044 -0.038139       0.074564    0.092271  \n",
              "view          -0.000073 -0.102728       0.255793    0.116520  \n",
              "condition     -0.022341 -0.085270      -0.086905    0.117719  \n",
              "grade          0.103921  0.222791       0.662635    0.156109  \n",
              "sqft_above    -0.025860  0.385472       0.696646    0.254203  \n",
              "sqft_basement  0.116296 -0.200191       0.129733    0.030566  \n",
              "yr_built      -0.125902  0.412648       0.336087   -0.016260  \n",
              "yr_renovated   0.025396 -0.075119      -0.005588    0.008830  \n",
              "zipcode        0.249606 -0.577173      -0.287180   -0.326118  \n",
              "lat            1.000000 -0.143307       0.027566   -0.116542  \n",
              "long          -0.143307  1.000000       0.380412    0.373071  \n",
              "sqft_living15  0.027566  0.380412       1.000000    0.365723  \n",
              "sqft_lot15    -0.116542  0.373071       0.365723    1.000000  "
            ]
          },
          "execution_count": 7,
          "metadata": {},
          "output_type": "execute_result"
        }
      ],
      "source": [
        "dataset.corr('spearman')"
      ]
    },
    {
      "cell_type": "code",
      "execution_count": null,
      "metadata": {
        "id": "WX30KNpVVc1d"
      },
      "outputs": [],
      "source": [
        "# Imprime a correlação de spearman (esta leva em consideração a correção positiva e negativa)\n",
        "dataset.corr('spearman')"
      ]
    },
    {
      "cell_type": "code",
      "execution_count": null,
      "metadata": {
        "id": "F3ILVFNlVc1f",
        "outputId": "718e590d-6339-4d3c-851d-127dcb0e43a7"
      },
      "outputs": [
        {
          "data": {
            "text/html": [
              "<div>\n",
              "<style scoped>\n",
              "    .dataframe tbody tr th:only-of-type {\n",
              "        vertical-align: middle;\n",
              "    }\n",
              "\n",
              "    .dataframe tbody tr th {\n",
              "        vertical-align: top;\n",
              "    }\n",
              "\n",
              "    .dataframe thead th {\n",
              "        text-align: right;\n",
              "    }\n",
              "</style>\n",
              "<table border=\"1\" class=\"dataframe\">\n",
              "  <thead>\n",
              "    <tr style=\"text-align: right;\">\n",
              "      <th></th>\n",
              "      <th>bedrooms</th>\n",
              "      <th>bathrooms</th>\n",
              "      <th>floors</th>\n",
              "      <th>grade</th>\n",
              "      <th>price</th>\n",
              "    </tr>\n",
              "  </thead>\n",
              "  <tbody>\n",
              "    <tr>\n",
              "      <th>bedrooms</th>\n",
              "      <td>1.000000</td>\n",
              "      <td>0.515929</td>\n",
              "      <td>0.175440</td>\n",
              "      <td>0.356972</td>\n",
              "      <td>0.308321</td>\n",
              "    </tr>\n",
              "    <tr>\n",
              "      <th>bathrooms</th>\n",
              "      <td>0.515929</td>\n",
              "      <td>1.000000</td>\n",
              "      <td>0.500626</td>\n",
              "      <td>0.664983</td>\n",
              "      <td>0.525138</td>\n",
              "    </tr>\n",
              "    <tr>\n",
              "      <th>floors</th>\n",
              "      <td>0.175440</td>\n",
              "      <td>0.500626</td>\n",
              "      <td>1.000000</td>\n",
              "      <td>0.458171</td>\n",
              "      <td>0.256791</td>\n",
              "    </tr>\n",
              "    <tr>\n",
              "      <th>grade</th>\n",
              "      <td>0.356972</td>\n",
              "      <td>0.664983</td>\n",
              "      <td>0.458171</td>\n",
              "      <td>1.000000</td>\n",
              "      <td>0.667434</td>\n",
              "    </tr>\n",
              "    <tr>\n",
              "      <th>price</th>\n",
              "      <td>0.308321</td>\n",
              "      <td>0.525138</td>\n",
              "      <td>0.256791</td>\n",
              "      <td>0.667434</td>\n",
              "      <td>1.000000</td>\n",
              "    </tr>\n",
              "  </tbody>\n",
              "</table>\n",
              "</div>"
            ],
            "text/plain": [
              "           bedrooms  bathrooms    floors     grade     price\n",
              "bedrooms   1.000000   0.515929  0.175440  0.356972  0.308321\n",
              "bathrooms  0.515929   1.000000  0.500626  0.664983  0.525138\n",
              "floors     0.175440   0.500626  1.000000  0.458171  0.256791\n",
              "grade      0.356972   0.664983  0.458171  1.000000  0.667434\n",
              "price      0.308321   0.525138  0.256791  0.667434  1.000000"
            ]
          },
          "execution_count": 8,
          "metadata": {},
          "output_type": "execute_result"
        }
      ],
      "source": [
        "# Imprime a correção de algumas colunas\n",
        "dataset[['bedrooms','bathrooms','floors','grade','price']].corr()"
      ]
    },
    {
      "cell_type": "markdown",
      "metadata": {
        "id": "XTRc7NjBKG65"
      },
      "source": [
        "# Fim"
      ]
    },
    {
      "cell_type": "markdown",
      "metadata": {
        "id": "_fHqFSvWe94c"
      },
      "source": [
        "## Valeu!"
      ]
    },
    {
      "cell_type": "markdown",
      "metadata": {
        "id": "JCGIEsSrKG66"
      },
      "source": [
        "### #Instagram - Ciencia dos Dados <a href=\"http://instagram.com/cienciadosdados\">instagram.com/cienciadosdados</a>"
      ]
    },
    {
      "cell_type": "code",
      "execution_count": null,
      "metadata": {
        "id": "EEkwr6HMZ4Qa"
      },
      "outputs": [],
      "source": []
    }
  ],
  "metadata": {
    "colab": {
      "provenance": [],
      "include_colab_link": true
    },
    "kernelspec": {
      "display_name": "Python 3",
      "language": "python",
      "name": "python3"
    },
    "language_info": {
      "codemirror_mode": {
        "name": "ipython",
        "version": 3
      },
      "file_extension": ".py",
      "mimetype": "text/x-python",
      "name": "python",
      "nbconvert_exporter": "python",
      "pygments_lexer": "ipython3",
      "version": "3.8.3"
    }
  },
  "nbformat": 4,
  "nbformat_minor": 0
}